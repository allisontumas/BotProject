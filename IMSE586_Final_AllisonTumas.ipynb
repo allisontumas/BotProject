{
 "cells": [
  {
   "cell_type": "code",
   "execution_count": 1,
   "metadata": {
    "slideshow": {
     "slide_type": "slide"
    }
   },
   "outputs": [
    {
     "name": "stderr",
     "output_type": "stream",
     "text": [
      "/opt/anaconda3/lib/python3.7/site-packages/statsmodels/tools/_testing.py:19: FutureWarning: pandas.util.testing is deprecated. Use the functions in the public API at pandas.testing instead.\n",
      "  import pandas.util.testing as tm\n"
     ]
    }
   ],
   "source": [
    "#Allison Tumas\n",
    "\n",
    "#First we will import all of the libraries needed for this project\n",
    "import pandas as pd\n",
    "import numpy as np\n",
    "import seaborn as sns\n",
    "import statsmodels.api as sm\n",
    "import matplotlib.pyplot as plt\n",
    "import datetime"
   ]
  },
  {
   "cell_type": "code",
   "execution_count": 2,
   "metadata": {
    "slideshow": {
     "slide_type": "slide"
    }
   },
   "outputs": [
    {
     "data": {
      "text/html": [
       "<div>\n",
       "<style scoped>\n",
       "    .dataframe tbody tr th:only-of-type {\n",
       "        vertical-align: middle;\n",
       "    }\n",
       "\n",
       "    .dataframe tbody tr th {\n",
       "        vertical-align: top;\n",
       "    }\n",
       "\n",
       "    .dataframe thead th {\n",
       "        text-align: right;\n",
       "    }\n",
       "</style>\n",
       "<table border=\"1\" class=\"dataframe\">\n",
       "  <thead>\n",
       "    <tr style=\"text-align: right;\">\n",
       "      <th></th>\n",
       "      <th>Unnamed: 0</th>\n",
       "      <th>created_at</th>\n",
       "      <th>default_profile</th>\n",
       "      <th>default_profile_image</th>\n",
       "      <th>description</th>\n",
       "      <th>favourites_count</th>\n",
       "      <th>followers_count</th>\n",
       "      <th>friends_count</th>\n",
       "      <th>geo_enabled</th>\n",
       "      <th>id</th>\n",
       "      <th>lang</th>\n",
       "      <th>location</th>\n",
       "      <th>profile_background_image_url</th>\n",
       "      <th>profile_image_url</th>\n",
       "      <th>screen_name</th>\n",
       "      <th>statuses_count</th>\n",
       "      <th>verified</th>\n",
       "      <th>average_tweets_per_day</th>\n",
       "      <th>account_age_days</th>\n",
       "      <th>account_type</th>\n",
       "    </tr>\n",
       "  </thead>\n",
       "  <tbody>\n",
       "    <tr>\n",
       "      <th>0</th>\n",
       "      <td>0</td>\n",
       "      <td>2016-10-15 21:32:11</td>\n",
       "      <td>False</td>\n",
       "      <td>False</td>\n",
       "      <td>Blame @xaiax, Inspired by @MakingInvisible, us...</td>\n",
       "      <td>4</td>\n",
       "      <td>1589</td>\n",
       "      <td>4</td>\n",
       "      <td>False</td>\n",
       "      <td>787405734442958848</td>\n",
       "      <td>en</td>\n",
       "      <td>unknown</td>\n",
       "      <td>http://abs.twimg.com/images/themes/theme1/bg.png</td>\n",
       "      <td>http://pbs.twimg.com/profile_images/7874121826...</td>\n",
       "      <td>best_in_dumbest</td>\n",
       "      <td>11041</td>\n",
       "      <td>False</td>\n",
       "      <td>7.870</td>\n",
       "      <td>1403</td>\n",
       "      <td>bot</td>\n",
       "    </tr>\n",
       "    <tr>\n",
       "      <th>1</th>\n",
       "      <td>1</td>\n",
       "      <td>2016-11-09 05:01:30</td>\n",
       "      <td>False</td>\n",
       "      <td>False</td>\n",
       "      <td>Photographing the American West since 1980. I ...</td>\n",
       "      <td>536</td>\n",
       "      <td>860</td>\n",
       "      <td>880</td>\n",
       "      <td>False</td>\n",
       "      <td>796216118331310080</td>\n",
       "      <td>en</td>\n",
       "      <td>Estados Unidos</td>\n",
       "      <td>http://abs.twimg.com/images/themes/theme1/bg.png</td>\n",
       "      <td>http://pbs.twimg.com/profile_images/8023296328...</td>\n",
       "      <td>CJRubinPhoto</td>\n",
       "      <td>252</td>\n",
       "      <td>False</td>\n",
       "      <td>0.183</td>\n",
       "      <td>1379</td>\n",
       "      <td>human</td>\n",
       "    </tr>\n",
       "    <tr>\n",
       "      <th>2</th>\n",
       "      <td>2</td>\n",
       "      <td>2017-06-17 05:34:27</td>\n",
       "      <td>False</td>\n",
       "      <td>False</td>\n",
       "      <td>Scruffy looking nerf herder and @twitch broadc...</td>\n",
       "      <td>3307</td>\n",
       "      <td>172</td>\n",
       "      <td>594</td>\n",
       "      <td>True</td>\n",
       "      <td>875949740503859204</td>\n",
       "      <td>en</td>\n",
       "      <td>Los Angeles, CA</td>\n",
       "      <td>http://abs.twimg.com/images/themes/theme1/bg.png</td>\n",
       "      <td>http://pbs.twimg.com/profile_images/1278890453...</td>\n",
       "      <td>SVGEGENT</td>\n",
       "      <td>1001</td>\n",
       "      <td>False</td>\n",
       "      <td>0.864</td>\n",
       "      <td>1159</td>\n",
       "      <td>human</td>\n",
       "    </tr>\n",
       "    <tr>\n",
       "      <th>3</th>\n",
       "      <td>3</td>\n",
       "      <td>2016-07-21 13:32:25</td>\n",
       "      <td>True</td>\n",
       "      <td>False</td>\n",
       "      <td>Wife.Godmother.Friend.Feline Fanatic! Assistan...</td>\n",
       "      <td>8433</td>\n",
       "      <td>517</td>\n",
       "      <td>633</td>\n",
       "      <td>True</td>\n",
       "      <td>756119643622735875</td>\n",
       "      <td>en</td>\n",
       "      <td>Birmingham, AL</td>\n",
       "      <td>NaN</td>\n",
       "      <td>http://pbs.twimg.com/profile_images/1284884924...</td>\n",
       "      <td>TinkerVHELPK5</td>\n",
       "      <td>1324</td>\n",
       "      <td>False</td>\n",
       "      <td>0.889</td>\n",
       "      <td>1489</td>\n",
       "      <td>human</td>\n",
       "    </tr>\n",
       "    <tr>\n",
       "      <th>4</th>\n",
       "      <td>4</td>\n",
       "      <td>2012-01-15 16:32:35</td>\n",
       "      <td>False</td>\n",
       "      <td>False</td>\n",
       "      <td>Loan coach at @mancity &amp; Aspiring DJ</td>\n",
       "      <td>88</td>\n",
       "      <td>753678</td>\n",
       "      <td>116</td>\n",
       "      <td>True</td>\n",
       "      <td>464781334</td>\n",
       "      <td>en</td>\n",
       "      <td>England, United Kingdom</td>\n",
       "      <td>http://abs.twimg.com/images/themes/theme1/bg.png</td>\n",
       "      <td>http://pbs.twimg.com/profile_images/9952566258...</td>\n",
       "      <td>JoleonLescott</td>\n",
       "      <td>4202</td>\n",
       "      <td>True</td>\n",
       "      <td>1.339</td>\n",
       "      <td>3138</td>\n",
       "      <td>human</td>\n",
       "    </tr>\n",
       "    <tr>\n",
       "      <th>5</th>\n",
       "      <td>5</td>\n",
       "      <td>2016-11-21 22:50:30</td>\n",
       "      <td>True</td>\n",
       "      <td>False</td>\n",
       "      <td>لا إله إلا الله . فعل التنبيهات 🌷🎖عادل ...حساب...</td>\n",
       "      <td>237</td>\n",
       "      <td>27394</td>\n",
       "      <td>542</td>\n",
       "      <td>False</td>\n",
       "      <td>800833795234611200</td>\n",
       "      <td>ar</td>\n",
       "      <td>مكة المكرمة</td>\n",
       "      <td>NaN</td>\n",
       "      <td>http://pbs.twimg.com/profile_images/1273524501...</td>\n",
       "      <td>Ayat_140</td>\n",
       "      <td>11513</td>\n",
       "      <td>False</td>\n",
       "      <td>8.428</td>\n",
       "      <td>1366</td>\n",
       "      <td>bot</td>\n",
       "    </tr>\n",
       "    <tr>\n",
       "      <th>6</th>\n",
       "      <td>6</td>\n",
       "      <td>2009-07-08 22:22:59</td>\n",
       "      <td>False</td>\n",
       "      <td>False</td>\n",
       "      <td>Co-Host of @TheTalkCBS, Judge on @DancingABC, ...</td>\n",
       "      <td>5522</td>\n",
       "      <td>291529</td>\n",
       "      <td>1581</td>\n",
       "      <td>True</td>\n",
       "      <td>55050269</td>\n",
       "      <td>en</td>\n",
       "      <td>Los Angeles</td>\n",
       "      <td>http://abs.twimg.com/images/themes/theme14/bg.gif</td>\n",
       "      <td>http://pbs.twimg.com/profile_images/1275104892...</td>\n",
       "      <td>carrieanninaba</td>\n",
       "      <td>14535</td>\n",
       "      <td>True</td>\n",
       "      <td>3.581</td>\n",
       "      <td>4059</td>\n",
       "      <td>human</td>\n",
       "    </tr>\n",
       "    <tr>\n",
       "      <th>7</th>\n",
       "      <td>7</td>\n",
       "      <td>2012-09-07 20:01:33</td>\n",
       "      <td>False</td>\n",
       "      <td>False</td>\n",
       "      <td>Internationally-acclaimed Egyptian Singer.</td>\n",
       "      <td>756</td>\n",
       "      <td>6909959</td>\n",
       "      <td>40</td>\n",
       "      <td>False</td>\n",
       "      <td>809500704</td>\n",
       "      <td>en</td>\n",
       "      <td>unknown</td>\n",
       "      <td>http://abs.twimg.com/images/themes/theme1/bg.png</td>\n",
       "      <td>http://pbs.twimg.com/profile_images/1243989369...</td>\n",
       "      <td>sherine</td>\n",
       "      <td>1223</td>\n",
       "      <td>True</td>\n",
       "      <td>0.421</td>\n",
       "      <td>2902</td>\n",
       "      <td>human</td>\n",
       "    </tr>\n",
       "    <tr>\n",
       "      <th>8</th>\n",
       "      <td>8</td>\n",
       "      <td>2012-12-16 11:43:24</td>\n",
       "      <td>True</td>\n",
       "      <td>False</td>\n",
       "      <td>NaN</td>\n",
       "      <td>64</td>\n",
       "      <td>24</td>\n",
       "      <td>0</td>\n",
       "      <td>False</td>\n",
       "      <td>1015021614</td>\n",
       "      <td>NaN</td>\n",
       "      <td>unknown</td>\n",
       "      <td>http://abs.twimg.com/images/themes/theme1/bg.png</td>\n",
       "      <td>http://pbs.twimg.com/profile_images/6114933021...</td>\n",
       "      <td>cordensmaureen</td>\n",
       "      <td>277</td>\n",
       "      <td>False</td>\n",
       "      <td>0.099</td>\n",
       "      <td>2802</td>\n",
       "      <td>human</td>\n",
       "    </tr>\n",
       "    <tr>\n",
       "      <th>9</th>\n",
       "      <td>9</td>\n",
       "      <td>2012-02-14 15:33:48</td>\n",
       "      <td>False</td>\n",
       "      <td>False</td>\n",
       "      <td>Man Utd fan. mostly here for football. Takes p...</td>\n",
       "      <td>36384</td>\n",
       "      <td>2130</td>\n",
       "      <td>3363</td>\n",
       "      <td>True</td>\n",
       "      <td>492306486</td>\n",
       "      <td>en</td>\n",
       "      <td>United Kingdom</td>\n",
       "      <td>http://abs.twimg.com/images/themes/theme14/bg.gif</td>\n",
       "      <td>http://pbs.twimg.com/profile_images/1211318786...</td>\n",
       "      <td>GhamGraham</td>\n",
       "      <td>63376</td>\n",
       "      <td>False</td>\n",
       "      <td>20.391</td>\n",
       "      <td>3108</td>\n",
       "      <td>human</td>\n",
       "    </tr>\n",
       "  </tbody>\n",
       "</table>\n",
       "</div>"
      ],
      "text/plain": [
       "   Unnamed: 0           created_at  default_profile  default_profile_image  \\\n",
       "0           0  2016-10-15 21:32:11            False                  False   \n",
       "1           1  2016-11-09 05:01:30            False                  False   \n",
       "2           2  2017-06-17 05:34:27            False                  False   \n",
       "3           3  2016-07-21 13:32:25             True                  False   \n",
       "4           4  2012-01-15 16:32:35            False                  False   \n",
       "5           5  2016-11-21 22:50:30             True                  False   \n",
       "6           6  2009-07-08 22:22:59            False                  False   \n",
       "7           7  2012-09-07 20:01:33            False                  False   \n",
       "8           8  2012-12-16 11:43:24             True                  False   \n",
       "9           9  2012-02-14 15:33:48            False                  False   \n",
       "\n",
       "                                         description  favourites_count  \\\n",
       "0  Blame @xaiax, Inspired by @MakingInvisible, us...                 4   \n",
       "1  Photographing the American West since 1980. I ...               536   \n",
       "2  Scruffy looking nerf herder and @twitch broadc...              3307   \n",
       "3  Wife.Godmother.Friend.Feline Fanatic! Assistan...              8433   \n",
       "4               Loan coach at @mancity & Aspiring DJ                88   \n",
       "5  لا إله إلا الله . فعل التنبيهات 🌷🎖عادل ...حساب...               237   \n",
       "6  Co-Host of @TheTalkCBS, Judge on @DancingABC, ...              5522   \n",
       "7         Internationally-acclaimed Egyptian Singer.               756   \n",
       "8                                                NaN                64   \n",
       "9  Man Utd fan. mostly here for football. Takes p...             36384   \n",
       "\n",
       "   followers_count  friends_count  geo_enabled                  id lang  \\\n",
       "0             1589              4        False  787405734442958848   en   \n",
       "1              860            880        False  796216118331310080   en   \n",
       "2              172            594         True  875949740503859204   en   \n",
       "3              517            633         True  756119643622735875   en   \n",
       "4           753678            116         True           464781334   en   \n",
       "5            27394            542        False  800833795234611200   ar   \n",
       "6           291529           1581         True            55050269   en   \n",
       "7          6909959             40        False           809500704   en   \n",
       "8               24              0        False          1015021614  NaN   \n",
       "9             2130           3363         True           492306486   en   \n",
       "\n",
       "                  location                       profile_background_image_url  \\\n",
       "0                  unknown   http://abs.twimg.com/images/themes/theme1/bg.png   \n",
       "1           Estados Unidos   http://abs.twimg.com/images/themes/theme1/bg.png   \n",
       "2          Los Angeles, CA   http://abs.twimg.com/images/themes/theme1/bg.png   \n",
       "3           Birmingham, AL                                                NaN   \n",
       "4  England, United Kingdom   http://abs.twimg.com/images/themes/theme1/bg.png   \n",
       "5              مكة المكرمة                                                NaN   \n",
       "6              Los Angeles  http://abs.twimg.com/images/themes/theme14/bg.gif   \n",
       "7                  unknown   http://abs.twimg.com/images/themes/theme1/bg.png   \n",
       "8                  unknown   http://abs.twimg.com/images/themes/theme1/bg.png   \n",
       "9           United Kingdom  http://abs.twimg.com/images/themes/theme14/bg.gif   \n",
       "\n",
       "                                   profile_image_url      screen_name  \\\n",
       "0  http://pbs.twimg.com/profile_images/7874121826...  best_in_dumbest   \n",
       "1  http://pbs.twimg.com/profile_images/8023296328...     CJRubinPhoto   \n",
       "2  http://pbs.twimg.com/profile_images/1278890453...         SVGEGENT   \n",
       "3  http://pbs.twimg.com/profile_images/1284884924...    TinkerVHELPK5   \n",
       "4  http://pbs.twimg.com/profile_images/9952566258...    JoleonLescott   \n",
       "5  http://pbs.twimg.com/profile_images/1273524501...         Ayat_140   \n",
       "6  http://pbs.twimg.com/profile_images/1275104892...   carrieanninaba   \n",
       "7  http://pbs.twimg.com/profile_images/1243989369...          sherine   \n",
       "8  http://pbs.twimg.com/profile_images/6114933021...   cordensmaureen   \n",
       "9  http://pbs.twimg.com/profile_images/1211318786...       GhamGraham   \n",
       "\n",
       "   statuses_count  verified  average_tweets_per_day  account_age_days  \\\n",
       "0           11041     False                   7.870              1403   \n",
       "1             252     False                   0.183              1379   \n",
       "2            1001     False                   0.864              1159   \n",
       "3            1324     False                   0.889              1489   \n",
       "4            4202      True                   1.339              3138   \n",
       "5           11513     False                   8.428              1366   \n",
       "6           14535      True                   3.581              4059   \n",
       "7            1223      True                   0.421              2902   \n",
       "8             277     False                   0.099              2802   \n",
       "9           63376     False                  20.391              3108   \n",
       "\n",
       "  account_type  \n",
       "0          bot  \n",
       "1        human  \n",
       "2        human  \n",
       "3        human  \n",
       "4        human  \n",
       "5          bot  \n",
       "6        human  \n",
       "7        human  \n",
       "8        human  \n",
       "9        human  "
      ]
     },
     "execution_count": 2,
     "metadata": {},
     "output_type": "execute_result"
    }
   ],
   "source": [
    "#read in the Twitter data for analysis\n",
    "td = pd.read_csv('twitter_human_bots_dataset.csv')\n",
    "\n",
    "#Preview the Data\n",
    "td.head(10)"
   ]
  },
  {
   "cell_type": "code",
   "execution_count": 3,
   "metadata": {
    "slideshow": {
     "slide_type": "slide"
    }
   },
   "outputs": [
    {
     "name": "stdout",
     "output_type": "stream",
     "text": [
      "<class 'pandas.core.frame.DataFrame'>\n",
      "RangeIndex: 37438 entries, 0 to 37437\n",
      "Data columns (total 20 columns):\n",
      " #   Column                        Non-Null Count  Dtype  \n",
      "---  ------                        --------------  -----  \n",
      " 0   Unnamed: 0                    37438 non-null  int64  \n",
      " 1   created_at                    37438 non-null  object \n",
      " 2   default_profile               37438 non-null  bool   \n",
      " 3   default_profile_image         37438 non-null  bool   \n",
      " 4   description                   30182 non-null  object \n",
      " 5   favourites_count              37438 non-null  int64  \n",
      " 6   followers_count               37438 non-null  int64  \n",
      " 7   friends_count                 37438 non-null  int64  \n",
      " 8   geo_enabled                   37438 non-null  bool   \n",
      " 9   id                            37438 non-null  int64  \n",
      " 10  lang                          29481 non-null  object \n",
      " 11  location                      37435 non-null  object \n",
      " 12  profile_background_image_url  32939 non-null  object \n",
      " 13  profile_image_url             37437 non-null  object \n",
      " 14  screen_name                   37438 non-null  object \n",
      " 15  statuses_count                37438 non-null  int64  \n",
      " 16  verified                      37438 non-null  bool   \n",
      " 17  average_tweets_per_day        37438 non-null  float64\n",
      " 18  account_age_days              37438 non-null  int64  \n",
      " 19  account_type                  37438 non-null  object \n",
      "dtypes: bool(4), float64(1), int64(7), object(8)\n",
      "memory usage: 4.7+ MB\n"
     ]
    }
   ],
   "source": [
    "#Check your data types\n",
    "td.info()"
   ]
  },
  {
   "cell_type": "code",
   "execution_count": 4,
   "metadata": {},
   "outputs": [],
   "source": [
    "#In this instance we will pay special attention the the bool objects because we know /\n",
    "#that they will need to be transformed for categorical encoding later in the project"
   ]
  },
  {
   "cell_type": "code",
   "execution_count": 5,
   "metadata": {
    "slideshow": {
     "slide_type": "slide"
    }
   },
   "outputs": [
    {
     "name": "stdout",
     "output_type": "stream",
     "text": [
      "human    0.668118\n",
      "bot      0.331882\n",
      "Name: account_type, dtype: float64\n",
      "Bot accounts make up 33% of the dataset.\n"
     ]
    },
    {
     "data": {
      "image/png": "[encoded data removed]",
      "text/plain": [
       "<Figure size 288x432 with 1 Axes>"
      ]
     },
     "metadata": {
      "needs_background": "light"
     },
     "output_type": "display_data"
    }
   ],
   "source": [
    "#Next we will do a simple visualization of the dataset to check the percentage of bot vs. human accounts in our dataset since that will be our target column\n",
    "#We can see that about 1/3rd of the accounts are bot accounts\n",
    "plt.figure(figsize=(4, 6))\n",
    "bot = td['account_type']\n",
    "sns.countplot(x=bot, data=td, palette='hls')\n",
    "bot_value = td['account_type'].value_counts(normalize=True)\n",
    "plt.title('Value Count of Human vs. Bot Accounts')\n",
    "plt.savefig('Account_Type_Count.png')\n",
    "print(bot_value)\n",
    "print('Bot accounts make up 33% of the dataset.')"
   ]
  },
  {
   "cell_type": "code",
   "execution_count": 6,
   "metadata": {},
   "outputs": [
    {
     "data": {
      "image/png": "[encoded data removed]",
      "text/plain": [
       "<Figure size 288x432 with 1 Axes>"
      ]
     },
     "metadata": {
      "needs_background": "light"
     },
     "output_type": "display_data"
    }
   ],
   "source": [
    "plt.figure(figsize=(4, 6))\n",
    "plot = sns.countplot(x=\"verified\", hue=\"account_type\", palette='hls', data=td)\n",
    "plt.title('Verified: Bot vs. Human')\n",
    "\n",
    "for p in plot.patches:\n",
    "    plot.annotate(format(p.get_height(), '.0f'), (p.get_x() + p.get_width() / 2., p.get_height()), ha = 'center', va = 'center', xytext = (0, 10), textcoords = 'offset points')\n",
    "\n",
    "plt.savefig('Account_Type_Verified.png')\n",
    "#Less than .03 bot accounts are verified compared to nearly 3% of human accounts."
   ]
  },
  {
   "cell_type": "code",
   "execution_count": 7,
   "metadata": {},
   "outputs": [
    {
     "data": {
      "image/png": "[encoded data removed]",
      "text/plain": [
       "<Figure size 288x432 with 1 Axes>"
      ]
     },
     "metadata": {
      "needs_background": "light"
     },
     "output_type": "display_data"
    }
   ],
   "source": [
    "plt.figure(figsize=(4, 6))\n",
    "plot = sns.countplot(x=\"default_profile\", hue=\"account_type\", palette='hls', data=td)\n",
    "plt.title('Default Profile has Changed: Bot vs. Human')\n",
    "\n",
    "for p in plot.patches:\n",
    "    plot.annotate(format(p.get_height(), '.0f'), (p.get_x() + p.get_width() / 2., p.get_height()), ha = 'center', va = 'center', xytext = (0, 10), textcoords = 'offset points')\n",
    "\n",
    "plt.savefig('Account_Type_default_pro.png')\n",
    "#78% of human accounts have changed thier default profile while only 38% of bot accounts changed their default profiles."
   ]
  },
  {
   "cell_type": "code",
   "execution_count": 8,
   "metadata": {},
   "outputs": [
    {
     "data": {
      "image/png": "[encoded data removed]",
      "text/plain": [
       "<Figure size 288x432 with 1 Axes>"
      ]
     },
     "metadata": {
      "needs_background": "light"
     },
     "output_type": "display_data"
    }
   ],
   "source": [
    "plt.figure(figsize=(4, 6))\n",
    "plot = sns.countplot(x=\"geo_enabled\", hue=\"account_type\", palette='hls', data=td)\n",
    "plt.title('Profile is Geo Enabled: Bot vs. Human')\n",
    "\n",
    "for p in plot.patches:\n",
    "    plot.annotate(format(p.get_height(), '.0f'), (p.get_x() + p.get_width() / 2., p.get_height()), ha = 'center', va = 'center', xytext = (0, 10), textcoords = 'offset points')\n",
    "\n",
    "plt.savefig('Account_Type_geo.png')\n",
    "#Only 2% bot accounts are geo enabled compared to 58% of human accounts"
   ]
  },
  {
   "cell_type": "code",
   "execution_count": 9,
   "metadata": {},
   "outputs": [],
   "source": [
    "####################################\n",
    "'''Data Treatment: Data Cleaning'''\n",
    "####################################\n",
    "#First we will drop the unnamed column that is serving as an index\n",
    "td = td.iloc[:,1:]"
   ]
  },
  {
   "cell_type": "code",
   "execution_count": 10,
   "metadata": {},
   "outputs": [
    {
     "data": {
      "text/html": [
       "<div>\n",
       "<style scoped>\n",
       "    .dataframe tbody tr th:only-of-type {\n",
       "        vertical-align: middle;\n",
       "    }\n",
       "\n",
       "    .dataframe tbody tr th {\n",
       "        vertical-align: top;\n",
       "    }\n",
       "\n",
       "    .dataframe thead th {\n",
       "        text-align: right;\n",
       "    }\n",
       "</style>\n",
       "<table border=\"1\" class=\"dataframe\">\n",
       "  <thead>\n",
       "    <tr style=\"text-align: right;\">\n",
       "      <th></th>\n",
       "      <th>created_at</th>\n",
       "      <th>default_profile</th>\n",
       "      <th>default_profile_image</th>\n",
       "      <th>description</th>\n",
       "      <th>favourites_count</th>\n",
       "      <th>followers_count</th>\n",
       "      <th>friends_count</th>\n",
       "      <th>geo_enabled</th>\n",
       "      <th>id</th>\n",
       "      <th>lang</th>\n",
       "      <th>location</th>\n",
       "      <th>profile_background_image_url</th>\n",
       "      <th>profile_image_url</th>\n",
       "      <th>screen_name</th>\n",
       "      <th>statuses_count</th>\n",
       "      <th>verified</th>\n",
       "      <th>average_tweets_per_day</th>\n",
       "      <th>account_age_days</th>\n",
       "      <th>account_type</th>\n",
       "    </tr>\n",
       "  </thead>\n",
       "  <tbody>\n",
       "    <tr>\n",
       "      <th>0</th>\n",
       "      <td>2016-10-15 21:32:11</td>\n",
       "      <td>False</td>\n",
       "      <td>False</td>\n",
       "      <td>Blame @xaiax, Inspired by @MakingInvisible, us...</td>\n",
       "      <td>4</td>\n",
       "      <td>1589</td>\n",
       "      <td>4</td>\n",
       "      <td>False</td>\n",
       "      <td>787405734442958848</td>\n",
       "      <td>en</td>\n",
       "      <td>unknown</td>\n",
       "      <td>http://abs.twimg.com/images/themes/theme1/bg.png</td>\n",
       "      <td>http://pbs.twimg.com/profile_images/7874121826...</td>\n",
       "      <td>best_in_dumbest</td>\n",
       "      <td>11041</td>\n",
       "      <td>False</td>\n",
       "      <td>7.870</td>\n",
       "      <td>1403</td>\n",
       "      <td>bot</td>\n",
       "    </tr>\n",
       "    <tr>\n",
       "      <th>1</th>\n",
       "      <td>2016-11-09 05:01:30</td>\n",
       "      <td>False</td>\n",
       "      <td>False</td>\n",
       "      <td>Photographing the American West since 1980. I ...</td>\n",
       "      <td>536</td>\n",
       "      <td>860</td>\n",
       "      <td>880</td>\n",
       "      <td>False</td>\n",
       "      <td>796216118331310080</td>\n",
       "      <td>en</td>\n",
       "      <td>Estados Unidos</td>\n",
       "      <td>http://abs.twimg.com/images/themes/theme1/bg.png</td>\n",
       "      <td>http://pbs.twimg.com/profile_images/8023296328...</td>\n",
       "      <td>CJRubinPhoto</td>\n",
       "      <td>252</td>\n",
       "      <td>False</td>\n",
       "      <td>0.183</td>\n",
       "      <td>1379</td>\n",
       "      <td>human</td>\n",
       "    </tr>\n",
       "    <tr>\n",
       "      <th>2</th>\n",
       "      <td>2017-06-17 05:34:27</td>\n",
       "      <td>False</td>\n",
       "      <td>False</td>\n",
       "      <td>Scruffy looking nerf herder and @twitch broadc...</td>\n",
       "      <td>3307</td>\n",
       "      <td>172</td>\n",
       "      <td>594</td>\n",
       "      <td>True</td>\n",
       "      <td>875949740503859204</td>\n",
       "      <td>en</td>\n",
       "      <td>Los Angeles, CA</td>\n",
       "      <td>http://abs.twimg.com/images/themes/theme1/bg.png</td>\n",
       "      <td>http://pbs.twimg.com/profile_images/1278890453...</td>\n",
       "      <td>SVGEGENT</td>\n",
       "      <td>1001</td>\n",
       "      <td>False</td>\n",
       "      <td>0.864</td>\n",
       "      <td>1159</td>\n",
       "      <td>human</td>\n",
       "    </tr>\n",
       "  </tbody>\n",
       "</table>\n",
       "</div>"
      ],
      "text/plain": [
       "            created_at  default_profile  default_profile_image  \\\n",
       "0  2016-10-15 21:32:11            False                  False   \n",
       "1  2016-11-09 05:01:30            False                  False   \n",
       "2  2017-06-17 05:34:27            False                  False   \n",
       "\n",
       "                                         description  favourites_count  \\\n",
       "0  Blame @xaiax, Inspired by @MakingInvisible, us...                 4   \n",
       "1  Photographing the American West since 1980. I ...               536   \n",
       "2  Scruffy looking nerf herder and @twitch broadc...              3307   \n",
       "\n",
       "   followers_count  friends_count  geo_enabled                  id lang  \\\n",
       "0             1589              4        False  787405734442958848   en   \n",
       "1              860            880        False  796216118331310080   en   \n",
       "2              172            594         True  875949740503859204   en   \n",
       "\n",
       "          location                      profile_background_image_url  \\\n",
       "0          unknown  http://abs.twimg.com/images/themes/theme1/bg.png   \n",
       "1   Estados Unidos  http://abs.twimg.com/images/themes/theme1/bg.png   \n",
       "2  Los Angeles, CA  http://abs.twimg.com/images/themes/theme1/bg.png   \n",
       "\n",
       "                                   profile_image_url      screen_name  \\\n",
       "0  http://pbs.twimg.com/profile_images/7874121826...  best_in_dumbest   \n",
       "1  http://pbs.twimg.com/profile_images/8023296328...     CJRubinPhoto   \n",
       "2  http://pbs.twimg.com/profile_images/1278890453...         SVGEGENT   \n",
       "\n",
       "   statuses_count  verified  average_tweets_per_day  account_age_days  \\\n",
       "0           11041     False                   7.870              1403   \n",
       "1             252     False                   0.183              1379   \n",
       "2            1001     False                   0.864              1159   \n",
       "\n",
       "  account_type  \n",
       "0          bot  \n",
       "1        human  \n",
       "2        human  "
      ]
     },
     "execution_count": 10,
     "metadata": {},
     "output_type": "execute_result"
    }
   ],
   "source": [
    "td.head(3)"
   ]
  },
  {
   "cell_type": "code",
   "execution_count": 11,
   "metadata": {},
   "outputs": [
    {
     "data": {
      "text/plain": [
       "dtype('<M8[ns]')"
      ]
     },
     "execution_count": 11,
     "metadata": {},
     "output_type": "execute_result"
    }
   ],
   "source": [
    "#We will want to clean or drop any column that is type object before we apply categorical encoding.\n",
    "#created at: Apply time-series clean up \n",
    "#for this it will be easiest to just work with the date \n",
    "td['created_at'] = pd.to_datetime(td['created_at'], format='%Y-%m-%d', errors='coerce')\n",
    "td['created_at'].dtypes\n",
    "#source: https://docs.python.org/3/library/datetime.html#strftime-and-strptime-behavior"
   ]
  },
  {
   "cell_type": "code",
   "execution_count": 12,
   "metadata": {},
   "outputs": [
    {
     "data": {
      "text/html": [
       "<div>\n",
       "<style scoped>\n",
       "    .dataframe tbody tr th:only-of-type {\n",
       "        vertical-align: middle;\n",
       "    }\n",
       "\n",
       "    .dataframe tbody tr th {\n",
       "        vertical-align: top;\n",
       "    }\n",
       "\n",
       "    .dataframe thead th {\n",
       "        text-align: right;\n",
       "    }\n",
       "</style>\n",
       "<table border=\"1\" class=\"dataframe\">\n",
       "  <thead>\n",
       "    <tr style=\"text-align: right;\">\n",
       "      <th></th>\n",
       "      <th>created_at</th>\n",
       "      <th>default_profile</th>\n",
       "      <th>default_profile_image</th>\n",
       "      <th>description</th>\n",
       "      <th>favourites_count</th>\n",
       "      <th>followers_count</th>\n",
       "      <th>friends_count</th>\n",
       "      <th>geo_enabled</th>\n",
       "      <th>id</th>\n",
       "      <th>lang</th>\n",
       "      <th>location</th>\n",
       "      <th>profile_background_image_url</th>\n",
       "      <th>profile_image_url</th>\n",
       "      <th>screen_name</th>\n",
       "      <th>statuses_count</th>\n",
       "      <th>verified</th>\n",
       "      <th>average_tweets_per_day</th>\n",
       "      <th>account_age_days</th>\n",
       "      <th>account_type</th>\n",
       "    </tr>\n",
       "  </thead>\n",
       "  <tbody>\n",
       "    <tr>\n",
       "      <th>0</th>\n",
       "      <td>2016-10-15 21:32:11</td>\n",
       "      <td>False</td>\n",
       "      <td>False</td>\n",
       "      <td>True</td>\n",
       "      <td>4</td>\n",
       "      <td>1589</td>\n",
       "      <td>4</td>\n",
       "      <td>False</td>\n",
       "      <td>787405734442958848</td>\n",
       "      <td>True</td>\n",
       "      <td>unknown</td>\n",
       "      <td>http://abs.twimg.com/images/themes/theme1/bg.png</td>\n",
       "      <td>http://pbs.twimg.com/profile_images/7874121826...</td>\n",
       "      <td>best_in_dumbest</td>\n",
       "      <td>11041</td>\n",
       "      <td>False</td>\n",
       "      <td>7.870</td>\n",
       "      <td>1403</td>\n",
       "      <td>bot</td>\n",
       "    </tr>\n",
       "    <tr>\n",
       "      <th>1</th>\n",
       "      <td>2016-11-09 05:01:30</td>\n",
       "      <td>False</td>\n",
       "      <td>False</td>\n",
       "      <td>True</td>\n",
       "      <td>536</td>\n",
       "      <td>860</td>\n",
       "      <td>880</td>\n",
       "      <td>False</td>\n",
       "      <td>796216118331310080</td>\n",
       "      <td>True</td>\n",
       "      <td>Estados Unidos</td>\n",
       "      <td>http://abs.twimg.com/images/themes/theme1/bg.png</td>\n",
       "      <td>http://pbs.twimg.com/profile_images/8023296328...</td>\n",
       "      <td>CJRubinPhoto</td>\n",
       "      <td>252</td>\n",
       "      <td>False</td>\n",
       "      <td>0.183</td>\n",
       "      <td>1379</td>\n",
       "      <td>human</td>\n",
       "    </tr>\n",
       "    <tr>\n",
       "      <th>2</th>\n",
       "      <td>2017-06-17 05:34:27</td>\n",
       "      <td>False</td>\n",
       "      <td>False</td>\n",
       "      <td>True</td>\n",
       "      <td>3307</td>\n",
       "      <td>172</td>\n",
       "      <td>594</td>\n",
       "      <td>True</td>\n",
       "      <td>875949740503859204</td>\n",
       "      <td>True</td>\n",
       "      <td>Los Angeles, CA</td>\n",
       "      <td>http://abs.twimg.com/images/themes/theme1/bg.png</td>\n",
       "      <td>http://pbs.twimg.com/profile_images/1278890453...</td>\n",
       "      <td>SVGEGENT</td>\n",
       "      <td>1001</td>\n",
       "      <td>False</td>\n",
       "      <td>0.864</td>\n",
       "      <td>1159</td>\n",
       "      <td>human</td>\n",
       "    </tr>\n",
       "  </tbody>\n",
       "</table>\n",
       "</div>"
      ],
      "text/plain": [
       "           created_at  default_profile  default_profile_image  description  \\\n",
       "0 2016-10-15 21:32:11            False                  False         True   \n",
       "1 2016-11-09 05:01:30            False                  False         True   \n",
       "2 2017-06-17 05:34:27            False                  False         True   \n",
       "\n",
       "   favourites_count  followers_count  friends_count  geo_enabled  \\\n",
       "0                 4             1589              4        False   \n",
       "1               536              860            880        False   \n",
       "2              3307              172            594         True   \n",
       "\n",
       "                   id  lang         location  \\\n",
       "0  787405734442958848  True          unknown   \n",
       "1  796216118331310080  True   Estados Unidos   \n",
       "2  875949740503859204  True  Los Angeles, CA   \n",
       "\n",
       "                       profile_background_image_url  \\\n",
       "0  http://abs.twimg.com/images/themes/theme1/bg.png   \n",
       "1  http://abs.twimg.com/images/themes/theme1/bg.png   \n",
       "2  http://abs.twimg.com/images/themes/theme1/bg.png   \n",
       "\n",
       "                                   profile_image_url      screen_name  \\\n",
       "0  http://pbs.twimg.com/profile_images/7874121826...  best_in_dumbest   \n",
       "1  http://pbs.twimg.com/profile_images/8023296328...     CJRubinPhoto   \n",
       "2  http://pbs.twimg.com/profile_images/1278890453...         SVGEGENT   \n",
       "\n",
       "   statuses_count  verified  average_tweets_per_day  account_age_days  \\\n",
       "0           11041     False                   7.870              1403   \n",
       "1             252     False                   0.183              1379   \n",
       "2            1001     False                   0.864              1159   \n",
       "\n",
       "  account_type  \n",
       "0          bot  \n",
       "1        human  \n",
       "2        human  "
      ]
     },
     "execution_count": 12,
     "metadata": {},
     "output_type": "execute_result"
    }
   ],
   "source": [
    "#For the following features, we cannot apply categorical encoding because their are too many differing features in the set:\n",
    "#Here we could possible use an imputer for the null columns but the missing value column is actually critical in changing this column to true or false which is more meaningful\n",
    "'''change the below to bool type i.e. the account provided this information or they did not'''\n",
    "#description: NaN = False\n",
    "td['description'] = pd.notna(td['description'])\n",
    "#lang: NaN = False\n",
    "td['lang'] = pd.notna(td['lang'])\n",
    "td.head(3)\n"
   ]
  },
  {
   "cell_type": "code",
   "execution_count": 13,
   "metadata": {},
   "outputs": [
    {
     "data": {
      "text/html": [
       "<div>\n",
       "<style scoped>\n",
       "    .dataframe tbody tr th:only-of-type {\n",
       "        vertical-align: middle;\n",
       "    }\n",
       "\n",
       "    .dataframe tbody tr th {\n",
       "        vertical-align: top;\n",
       "    }\n",
       "\n",
       "    .dataframe thead th {\n",
       "        text-align: right;\n",
       "    }\n",
       "</style>\n",
       "<table border=\"1\" class=\"dataframe\">\n",
       "  <thead>\n",
       "    <tr style=\"text-align: right;\">\n",
       "      <th></th>\n",
       "      <th>created_at</th>\n",
       "      <th>default_profile</th>\n",
       "      <th>default_profile_image</th>\n",
       "      <th>description</th>\n",
       "      <th>favourites_count</th>\n",
       "      <th>followers_count</th>\n",
       "      <th>friends_count</th>\n",
       "      <th>geo_enabled</th>\n",
       "      <th>id</th>\n",
       "      <th>lang</th>\n",
       "      <th>location</th>\n",
       "      <th>screen_name</th>\n",
       "      <th>statuses_count</th>\n",
       "      <th>verified</th>\n",
       "      <th>average_tweets_per_day</th>\n",
       "      <th>account_age_days</th>\n",
       "      <th>account_type</th>\n",
       "    </tr>\n",
       "  </thead>\n",
       "  <tbody>\n",
       "    <tr>\n",
       "      <th>0</th>\n",
       "      <td>2016-10-15 21:32:11</td>\n",
       "      <td>False</td>\n",
       "      <td>False</td>\n",
       "      <td>True</td>\n",
       "      <td>4</td>\n",
       "      <td>1589</td>\n",
       "      <td>4</td>\n",
       "      <td>False</td>\n",
       "      <td>787405734442958848</td>\n",
       "      <td>True</td>\n",
       "      <td>unknown</td>\n",
       "      <td>best_in_dumbest</td>\n",
       "      <td>11041</td>\n",
       "      <td>False</td>\n",
       "      <td>7.870</td>\n",
       "      <td>1403</td>\n",
       "      <td>bot</td>\n",
       "    </tr>\n",
       "    <tr>\n",
       "      <th>1</th>\n",
       "      <td>2016-11-09 05:01:30</td>\n",
       "      <td>False</td>\n",
       "      <td>False</td>\n",
       "      <td>True</td>\n",
       "      <td>536</td>\n",
       "      <td>860</td>\n",
       "      <td>880</td>\n",
       "      <td>False</td>\n",
       "      <td>796216118331310080</td>\n",
       "      <td>True</td>\n",
       "      <td>Estados Unidos</td>\n",
       "      <td>CJRubinPhoto</td>\n",
       "      <td>252</td>\n",
       "      <td>False</td>\n",
       "      <td>0.183</td>\n",
       "      <td>1379</td>\n",
       "      <td>human</td>\n",
       "    </tr>\n",
       "    <tr>\n",
       "      <th>2</th>\n",
       "      <td>2017-06-17 05:34:27</td>\n",
       "      <td>False</td>\n",
       "      <td>False</td>\n",
       "      <td>True</td>\n",
       "      <td>3307</td>\n",
       "      <td>172</td>\n",
       "      <td>594</td>\n",
       "      <td>True</td>\n",
       "      <td>875949740503859204</td>\n",
       "      <td>True</td>\n",
       "      <td>Los Angeles, CA</td>\n",
       "      <td>SVGEGENT</td>\n",
       "      <td>1001</td>\n",
       "      <td>False</td>\n",
       "      <td>0.864</td>\n",
       "      <td>1159</td>\n",
       "      <td>human</td>\n",
       "    </tr>\n",
       "  </tbody>\n",
       "</table>\n",
       "</div>"
      ],
      "text/plain": [
       "           created_at  default_profile  default_profile_image  description  \\\n",
       "0 2016-10-15 21:32:11            False                  False         True   \n",
       "1 2016-11-09 05:01:30            False                  False         True   \n",
       "2 2017-06-17 05:34:27            False                  False         True   \n",
       "\n",
       "   favourites_count  followers_count  friends_count  geo_enabled  \\\n",
       "0                 4             1589              4        False   \n",
       "1               536              860            880        False   \n",
       "2              3307              172            594         True   \n",
       "\n",
       "                   id  lang         location      screen_name  statuses_count  \\\n",
       "0  787405734442958848  True          unknown  best_in_dumbest           11041   \n",
       "1  796216118331310080  True   Estados Unidos     CJRubinPhoto             252   \n",
       "2  875949740503859204  True  Los Angeles, CA         SVGEGENT            1001   \n",
       "\n",
       "   verified  average_tweets_per_day  account_age_days account_type  \n",
       "0     False                   7.870              1403          bot  \n",
       "1     False                   0.183              1379        human  \n",
       "2     False                   0.864              1159        human  "
      ]
     },
     "execution_count": 13,
     "metadata": {},
     "output_type": "execute_result"
    }
   ],
   "source": [
    "#We can delete profile background image url and profile image url instead of applying the bool method because we know whether it was updated from the default profile and default profile image columns which are already data type bool\n",
    "td = td.drop(columns=['profile_image_url', 'profile_background_image_url'])\n",
    "td.head(3)"
   ]
  },
  {
   "cell_type": "code",
   "execution_count": 28,
   "metadata": {},
   "outputs": [
    {
     "data": {
      "text/html": [
       "<div>\n",
       "<style scoped>\n",
       "    .dataframe tbody tr th:only-of-type {\n",
       "        vertical-align: middle;\n",
       "    }\n",
       "\n",
       "    .dataframe tbody tr th {\n",
       "        vertical-align: top;\n",
       "    }\n",
       "\n",
       "    .dataframe thead th {\n",
       "        text-align: right;\n",
       "    }\n",
       "</style>\n",
       "<table border=\"1\" class=\"dataframe\">\n",
       "  <thead>\n",
       "    <tr style=\"text-align: right;\">\n",
       "      <th></th>\n",
       "      <th>created_at</th>\n",
       "      <th>default_profile</th>\n",
       "      <th>default_profile_image</th>\n",
       "      <th>description</th>\n",
       "      <th>favourites_count</th>\n",
       "      <th>followers_count</th>\n",
       "      <th>friends_count</th>\n",
       "      <th>geo_enabled</th>\n",
       "      <th>lang</th>\n",
       "      <th>statuses_count</th>\n",
       "      <th>verified</th>\n",
       "      <th>average_tweets_per_day</th>\n",
       "      <th>account_age_days</th>\n",
       "      <th>account_type</th>\n",
       "    </tr>\n",
       "  </thead>\n",
       "  <tbody>\n",
       "    <tr>\n",
       "      <th>0</th>\n",
       "      <td>2016-10-15 21:32:11</td>\n",
       "      <td>False</td>\n",
       "      <td>False</td>\n",
       "      <td>True</td>\n",
       "      <td>4</td>\n",
       "      <td>1589</td>\n",
       "      <td>4</td>\n",
       "      <td>False</td>\n",
       "      <td>True</td>\n",
       "      <td>11041</td>\n",
       "      <td>False</td>\n",
       "      <td>7.870</td>\n",
       "      <td>1403</td>\n",
       "      <td>bot</td>\n",
       "    </tr>\n",
       "    <tr>\n",
       "      <th>1</th>\n",
       "      <td>2016-11-09 05:01:30</td>\n",
       "      <td>False</td>\n",
       "      <td>False</td>\n",
       "      <td>True</td>\n",
       "      <td>536</td>\n",
       "      <td>860</td>\n",
       "      <td>880</td>\n",
       "      <td>False</td>\n",
       "      <td>True</td>\n",
       "      <td>252</td>\n",
       "      <td>False</td>\n",
       "      <td>0.183</td>\n",
       "      <td>1379</td>\n",
       "      <td>human</td>\n",
       "    </tr>\n",
       "    <tr>\n",
       "      <th>2</th>\n",
       "      <td>2017-06-17 05:34:27</td>\n",
       "      <td>False</td>\n",
       "      <td>False</td>\n",
       "      <td>True</td>\n",
       "      <td>3307</td>\n",
       "      <td>172</td>\n",
       "      <td>594</td>\n",
       "      <td>True</td>\n",
       "      <td>True</td>\n",
       "      <td>1001</td>\n",
       "      <td>False</td>\n",
       "      <td>0.864</td>\n",
       "      <td>1159</td>\n",
       "      <td>human</td>\n",
       "    </tr>\n",
       "  </tbody>\n",
       "</table>\n",
       "</div>"
      ],
      "text/plain": [
       "           created_at  default_profile  default_profile_image  description  \\\n",
       "0 2016-10-15 21:32:11            False                  False         True   \n",
       "1 2016-11-09 05:01:30            False                  False         True   \n",
       "2 2017-06-17 05:34:27            False                  False         True   \n",
       "\n",
       "   favourites_count  followers_count  friends_count  geo_enabled  lang  \\\n",
       "0                 4             1589              4        False  True   \n",
       "1               536              860            880        False  True   \n",
       "2              3307              172            594         True  True   \n",
       "\n",
       "   statuses_count  verified  average_tweets_per_day  account_age_days  \\\n",
       "0           11041     False                   7.870              1403   \n",
       "1             252     False                   0.183              1379   \n",
       "2            1001     False                   0.864              1159   \n",
       "\n",
       "  account_type  \n",
       "0          bot  \n",
       "1        human  \n",
       "2        human  "
      ]
     },
     "execution_count": 28,
     "metadata": {},
     "output_type": "execute_result"
    }
   ],
   "source": [
    "#screen_name, #id, #location\n",
    "td_cat = td.drop(columns=['screen_name', 'location', 'id'])\n",
    "td_cat.head(3)"
   ]
  },
  {
   "cell_type": "code",
   "execution_count": 29,
   "metadata": {},
   "outputs": [],
   "source": [
    "#look for missing data\n",
    "td_cat = td_cat.dropna()"
   ]
  },
  {
   "cell_type": "code",
   "execution_count": 30,
   "metadata": {},
   "outputs": [
    {
     "data": {
      "text/plain": [
       "created_at                datetime64[ns]\n",
       "default_profile                     bool\n",
       "default_profile_image               bool\n",
       "description                         bool\n",
       "favourites_count                   int64\n",
       "followers_count                    int64\n",
       "friends_count                      int64\n",
       "geo_enabled                         bool\n",
       "lang                                bool\n",
       "statuses_count                     int64\n",
       "verified                            bool\n",
       "average_tweets_per_day           float64\n",
       "account_age_days                   int64\n",
       "account_type                      object\n",
       "dtype: object"
      ]
     },
     "execution_count": 30,
     "metadata": {},
     "output_type": "execute_result"
    }
   ],
   "source": [
    "#check to ensure the object data types have changed to bool types\n",
    "td_cat.dtypes"
   ]
  },
  {
   "cell_type": "code",
   "execution_count": 31,
   "metadata": {},
   "outputs": [],
   "source": [
    "#Now that they are marked as true or false, we want to set True to an int of 1 and False to an int of 0, we can do this by multiplying the dataset by 1\n",
    "td_cat[['default_profile', 'default_profile_image', 'description', 'geo_enabled', 'lang', 'verified']] *=1"
   ]
  },
  {
   "cell_type": "code",
   "execution_count": 32,
   "metadata": {},
   "outputs": [
    {
     "data": {
      "text/html": [
       "<div>\n",
       "<style scoped>\n",
       "    .dataframe tbody tr th:only-of-type {\n",
       "        vertical-align: middle;\n",
       "    }\n",
       "\n",
       "    .dataframe tbody tr th {\n",
       "        vertical-align: top;\n",
       "    }\n",
       "\n",
       "    .dataframe thead th {\n",
       "        text-align: right;\n",
       "    }\n",
       "</style>\n",
       "<table border=\"1\" class=\"dataframe\">\n",
       "  <thead>\n",
       "    <tr style=\"text-align: right;\">\n",
       "      <th></th>\n",
       "      <th>created_at</th>\n",
       "      <th>default_profile</th>\n",
       "      <th>default_profile_image</th>\n",
       "      <th>description</th>\n",
       "      <th>favourites_count</th>\n",
       "      <th>followers_count</th>\n",
       "      <th>friends_count</th>\n",
       "      <th>geo_enabled</th>\n",
       "      <th>lang</th>\n",
       "      <th>statuses_count</th>\n",
       "      <th>verified</th>\n",
       "      <th>average_tweets_per_day</th>\n",
       "      <th>account_age_days</th>\n",
       "      <th>account_type</th>\n",
       "    </tr>\n",
       "  </thead>\n",
       "  <tbody>\n",
       "    <tr>\n",
       "      <th>0</th>\n",
       "      <td>2016-10-15 21:32:11</td>\n",
       "      <td>0</td>\n",
       "      <td>0</td>\n",
       "      <td>1</td>\n",
       "      <td>4</td>\n",
       "      <td>1589</td>\n",
       "      <td>4</td>\n",
       "      <td>0</td>\n",
       "      <td>1</td>\n",
       "      <td>11041</td>\n",
       "      <td>0</td>\n",
       "      <td>7.870</td>\n",
       "      <td>1403</td>\n",
       "      <td>bot</td>\n",
       "    </tr>\n",
       "    <tr>\n",
       "      <th>1</th>\n",
       "      <td>2016-11-09 05:01:30</td>\n",
       "      <td>0</td>\n",
       "      <td>0</td>\n",
       "      <td>1</td>\n",
       "      <td>536</td>\n",
       "      <td>860</td>\n",
       "      <td>880</td>\n",
       "      <td>0</td>\n",
       "      <td>1</td>\n",
       "      <td>252</td>\n",
       "      <td>0</td>\n",
       "      <td>0.183</td>\n",
       "      <td>1379</td>\n",
       "      <td>human</td>\n",
       "    </tr>\n",
       "    <tr>\n",
       "      <th>2</th>\n",
       "      <td>2017-06-17 05:34:27</td>\n",
       "      <td>0</td>\n",
       "      <td>0</td>\n",
       "      <td>1</td>\n",
       "      <td>3307</td>\n",
       "      <td>172</td>\n",
       "      <td>594</td>\n",
       "      <td>1</td>\n",
       "      <td>1</td>\n",
       "      <td>1001</td>\n",
       "      <td>0</td>\n",
       "      <td>0.864</td>\n",
       "      <td>1159</td>\n",
       "      <td>human</td>\n",
       "    </tr>\n",
       "  </tbody>\n",
       "</table>\n",
       "</div>"
      ],
      "text/plain": [
       "           created_at  default_profile  default_profile_image  description  \\\n",
       "0 2016-10-15 21:32:11                0                      0            1   \n",
       "1 2016-11-09 05:01:30                0                      0            1   \n",
       "2 2017-06-17 05:34:27                0                      0            1   \n",
       "\n",
       "   favourites_count  followers_count  friends_count  geo_enabled  lang  \\\n",
       "0                 4             1589              4            0     1   \n",
       "1               536              860            880            0     1   \n",
       "2              3307              172            594            1     1   \n",
       "\n",
       "   statuses_count  verified  average_tweets_per_day  account_age_days  \\\n",
       "0           11041         0                   7.870              1403   \n",
       "1             252         0                   0.183              1379   \n",
       "2            1001         0                   0.864              1159   \n",
       "\n",
       "  account_type  \n",
       "0          bot  \n",
       "1        human  \n",
       "2        human  "
      ]
     },
     "execution_count": 32,
     "metadata": {},
     "output_type": "execute_result"
    }
   ],
   "source": [
    "td_cat.head(3)"
   ]
  },
  {
   "cell_type": "code",
   "execution_count": 33,
   "metadata": {},
   "outputs": [
    {
     "data": {
      "text/html": [
       "<div>\n",
       "<style scoped>\n",
       "    .dataframe tbody tr th:only-of-type {\n",
       "        vertical-align: middle;\n",
       "    }\n",
       "\n",
       "    .dataframe tbody tr th {\n",
       "        vertical-align: top;\n",
       "    }\n",
       "\n",
       "    .dataframe thead th {\n",
       "        text-align: right;\n",
       "    }\n",
       "</style>\n",
       "<table border=\"1\" class=\"dataframe\">\n",
       "  <thead>\n",
       "    <tr style=\"text-align: right;\">\n",
       "      <th></th>\n",
       "      <th>created_at</th>\n",
       "      <th>default_profile</th>\n",
       "      <th>default_profile_image</th>\n",
       "      <th>description</th>\n",
       "      <th>favourites_count</th>\n",
       "      <th>followers_count</th>\n",
       "      <th>friends_count</th>\n",
       "      <th>geo_enabled</th>\n",
       "      <th>lang</th>\n",
       "      <th>statuses_count</th>\n",
       "      <th>verified</th>\n",
       "      <th>average_tweets_per_day</th>\n",
       "      <th>account_age_days</th>\n",
       "      <th>account_type_bot</th>\n",
       "      <th>account_type_human</th>\n",
       "    </tr>\n",
       "  </thead>\n",
       "  <tbody>\n",
       "    <tr>\n",
       "      <th>0</th>\n",
       "      <td>2016-10-15 21:32:11</td>\n",
       "      <td>0</td>\n",
       "      <td>0</td>\n",
       "      <td>1</td>\n",
       "      <td>4</td>\n",
       "      <td>1589</td>\n",
       "      <td>4</td>\n",
       "      <td>0</td>\n",
       "      <td>1</td>\n",
       "      <td>11041</td>\n",
       "      <td>0</td>\n",
       "      <td>7.870</td>\n",
       "      <td>1403</td>\n",
       "      <td>1</td>\n",
       "      <td>0</td>\n",
       "    </tr>\n",
       "    <tr>\n",
       "      <th>1</th>\n",
       "      <td>2016-11-09 05:01:30</td>\n",
       "      <td>0</td>\n",
       "      <td>0</td>\n",
       "      <td>1</td>\n",
       "      <td>536</td>\n",
       "      <td>860</td>\n",
       "      <td>880</td>\n",
       "      <td>0</td>\n",
       "      <td>1</td>\n",
       "      <td>252</td>\n",
       "      <td>0</td>\n",
       "      <td>0.183</td>\n",
       "      <td>1379</td>\n",
       "      <td>0</td>\n",
       "      <td>1</td>\n",
       "    </tr>\n",
       "    <tr>\n",
       "      <th>2</th>\n",
       "      <td>2017-06-17 05:34:27</td>\n",
       "      <td>0</td>\n",
       "      <td>0</td>\n",
       "      <td>1</td>\n",
       "      <td>3307</td>\n",
       "      <td>172</td>\n",
       "      <td>594</td>\n",
       "      <td>1</td>\n",
       "      <td>1</td>\n",
       "      <td>1001</td>\n",
       "      <td>0</td>\n",
       "      <td>0.864</td>\n",
       "      <td>1159</td>\n",
       "      <td>0</td>\n",
       "      <td>1</td>\n",
       "    </tr>\n",
       "  </tbody>\n",
       "</table>\n",
       "</div>"
      ],
      "text/plain": [
       "           created_at  default_profile  default_profile_image  description  \\\n",
       "0 2016-10-15 21:32:11                0                      0            1   \n",
       "1 2016-11-09 05:01:30                0                      0            1   \n",
       "2 2017-06-17 05:34:27                0                      0            1   \n",
       "\n",
       "   favourites_count  followers_count  friends_count  geo_enabled  lang  \\\n",
       "0                 4             1589              4            0     1   \n",
       "1               536              860            880            0     1   \n",
       "2              3307              172            594            1     1   \n",
       "\n",
       "   statuses_count  verified  average_tweets_per_day  account_age_days  \\\n",
       "0           11041         0                   7.870              1403   \n",
       "1             252         0                   0.183              1379   \n",
       "2            1001         0                   0.864              1159   \n",
       "\n",
       "   account_type_bot  account_type_human  \n",
       "0                 1                   0  \n",
       "1                 0                   1  \n",
       "2                 0                   1  "
      ]
     },
     "execution_count": 33,
     "metadata": {},
     "output_type": "execute_result"
    }
   ],
   "source": [
    "#Categorical Encoding\n",
    "#Categorical encoding will be applied to account_type which also happens to be the target variable \n",
    "td_dum = pd.get_dummies(td_cat)\n",
    "td_dum.head(3)"
   ]
  },
  {
   "cell_type": "code",
   "execution_count": 34,
   "metadata": {},
   "outputs": [
    {
     "data": {
      "image/png": "[encoded data removed]",
      "text/plain": [
       "<Figure size 288x432 with 1 Axes>"
      ]
     },
     "metadata": {
      "needs_background": "light"
     },
     "output_type": "display_data"
    }
   ],
   "source": [
    "plt.figure(figsize=(4, 6))\n",
    "plot = sns.countplot(x=\"description\", hue=\"account_type_human\", palette='hls', data=td_dum)\n",
    "plt.title('Profile Contains Description: Bot vs. Human')\n",
    "legend_labels, _= plot.get_legend_handles_labels()\n",
    "plot.legend(legend_labels, ['bot','human'], bbox_to_anchor=(1,1))\n",
    "\n",
    "for p in plot.patches:\n",
    "    plot.annotate(format(p.get_height(), '.0f'), (p.get_x() + p.get_width() / 2., p.get_height()), ha = 'center', va = 'center', xytext = (0, 10), textcoords = 'offset points')\n",
    "\n",
    "plt.savefig('Account_Type_description.png')\n",
    "#88% of human account have a description in their profile vs. only 65% of bot accounts."
   ]
  },
  {
   "cell_type": "code",
   "execution_count": 35,
   "metadata": {},
   "outputs": [],
   "source": [
    "#drop \"obvious\" column so data isn't duplicated i.e. if we have a null value of 0 for account_type_bot, we know it is a human so we don't need the account_type_human column\n",
    "td_dum.drop('account_type_human', axis=1, inplace=True)"
   ]
  },
  {
   "cell_type": "code",
   "execution_count": 36,
   "metadata": {},
   "outputs": [
    {
     "data": {
      "text/html": [
       "<div>\n",
       "<style scoped>\n",
       "    .dataframe tbody tr th:only-of-type {\n",
       "        vertical-align: middle;\n",
       "    }\n",
       "\n",
       "    .dataframe tbody tr th {\n",
       "        vertical-align: top;\n",
       "    }\n",
       "\n",
       "    .dataframe thead th {\n",
       "        text-align: right;\n",
       "    }\n",
       "</style>\n",
       "<table border=\"1\" class=\"dataframe\">\n",
       "  <thead>\n",
       "    <tr style=\"text-align: right;\">\n",
       "      <th></th>\n",
       "      <th>created_at</th>\n",
       "      <th>default_profile</th>\n",
       "      <th>default_profile_image</th>\n",
       "      <th>description</th>\n",
       "      <th>favourites_count</th>\n",
       "      <th>followers_count</th>\n",
       "      <th>friends_count</th>\n",
       "      <th>geo_enabled</th>\n",
       "      <th>lang</th>\n",
       "      <th>statuses_count</th>\n",
       "      <th>verified</th>\n",
       "      <th>average_tweets_per_day</th>\n",
       "      <th>account_age_days</th>\n",
       "      <th>account_type_bot</th>\n",
       "    </tr>\n",
       "  </thead>\n",
       "  <tbody>\n",
       "    <tr>\n",
       "      <th>0</th>\n",
       "      <td>2016-10-15 21:32:11</td>\n",
       "      <td>0</td>\n",
       "      <td>0</td>\n",
       "      <td>1</td>\n",
       "      <td>4</td>\n",
       "      <td>1589</td>\n",
       "      <td>4</td>\n",
       "      <td>0</td>\n",
       "      <td>1</td>\n",
       "      <td>11041</td>\n",
       "      <td>0</td>\n",
       "      <td>7.870</td>\n",
       "      <td>1403</td>\n",
       "      <td>1</td>\n",
       "    </tr>\n",
       "    <tr>\n",
       "      <th>1</th>\n",
       "      <td>2016-11-09 05:01:30</td>\n",
       "      <td>0</td>\n",
       "      <td>0</td>\n",
       "      <td>1</td>\n",
       "      <td>536</td>\n",
       "      <td>860</td>\n",
       "      <td>880</td>\n",
       "      <td>0</td>\n",
       "      <td>1</td>\n",
       "      <td>252</td>\n",
       "      <td>0</td>\n",
       "      <td>0.183</td>\n",
       "      <td>1379</td>\n",
       "      <td>0</td>\n",
       "    </tr>\n",
       "    <tr>\n",
       "      <th>2</th>\n",
       "      <td>2017-06-17 05:34:27</td>\n",
       "      <td>0</td>\n",
       "      <td>0</td>\n",
       "      <td>1</td>\n",
       "      <td>3307</td>\n",
       "      <td>172</td>\n",
       "      <td>594</td>\n",
       "      <td>1</td>\n",
       "      <td>1</td>\n",
       "      <td>1001</td>\n",
       "      <td>0</td>\n",
       "      <td>0.864</td>\n",
       "      <td>1159</td>\n",
       "      <td>0</td>\n",
       "    </tr>\n",
       "  </tbody>\n",
       "</table>\n",
       "</div>"
      ],
      "text/plain": [
       "           created_at  default_profile  default_profile_image  description  \\\n",
       "0 2016-10-15 21:32:11                0                      0            1   \n",
       "1 2016-11-09 05:01:30                0                      0            1   \n",
       "2 2017-06-17 05:34:27                0                      0            1   \n",
       "\n",
       "   favourites_count  followers_count  friends_count  geo_enabled  lang  \\\n",
       "0                 4             1589              4            0     1   \n",
       "1               536              860            880            0     1   \n",
       "2              3307              172            594            1     1   \n",
       "\n",
       "   statuses_count  verified  average_tweets_per_day  account_age_days  \\\n",
       "0           11041         0                   7.870              1403   \n",
       "1             252         0                   0.183              1379   \n",
       "2            1001         0                   0.864              1159   \n",
       "\n",
       "   account_type_bot  \n",
       "0                 1  \n",
       "1                 0  \n",
       "2                 0  "
      ]
     },
     "execution_count": 36,
     "metadata": {},
     "output_type": "execute_result"
    }
   ],
   "source": [
    "td_dum.head(3)"
   ]
  },
  {
   "cell_type": "code",
   "execution_count": 37,
   "metadata": {},
   "outputs": [
    {
     "data": {
      "text/html": [
       "<div>\n",
       "<style scoped>\n",
       "    .dataframe tbody tr th:only-of-type {\n",
       "        vertical-align: middle;\n",
       "    }\n",
       "\n",
       "    .dataframe tbody tr th {\n",
       "        vertical-align: top;\n",
       "    }\n",
       "\n",
       "    .dataframe thead th {\n",
       "        text-align: right;\n",
       "    }\n",
       "</style>\n",
       "<table border=\"1\" class=\"dataframe\">\n",
       "  <thead>\n",
       "    <tr style=\"text-align: right;\">\n",
       "      <th></th>\n",
       "      <th>account_type_bot</th>\n",
       "      <th>default_profile</th>\n",
       "      <th>default_profile_image</th>\n",
       "      <th>description</th>\n",
       "      <th>favourites_count</th>\n",
       "      <th>followers_count</th>\n",
       "      <th>friends_count</th>\n",
       "      <th>geo_enabled</th>\n",
       "      <th>lang</th>\n",
       "      <th>statuses_count</th>\n",
       "      <th>verified</th>\n",
       "      <th>average_tweets_per_day</th>\n",
       "      <th>account_age_days</th>\n",
       "    </tr>\n",
       "  </thead>\n",
       "  <tbody>\n",
       "    <tr>\n",
       "      <th>0</th>\n",
       "      <td>0</td>\n",
       "      <td>0.318994</td>\n",
       "      <td>0.006996</td>\n",
       "      <td>0.883621</td>\n",
       "      <td>16186.048455</td>\n",
       "      <td>517747.512254</td>\n",
       "      <td>4207.620677</td>\n",
       "      <td>0.574141</td>\n",
       "      <td>0.861512</td>\n",
       "      <td>21465.263223</td>\n",
       "      <td>0.289250</td>\n",
       "      <td>6.712556</td>\n",
       "      <td>3173.561308</td>\n",
       "    </tr>\n",
       "    <tr>\n",
       "      <th>1</th>\n",
       "      <td>1</td>\n",
       "      <td>0.623018</td>\n",
       "      <td>0.030825</td>\n",
       "      <td>0.650302</td>\n",
       "      <td>4483.136740</td>\n",
       "      <td>73500.273803</td>\n",
       "      <td>4925.660443</td>\n",
       "      <td>0.218592</td>\n",
       "      <td>0.638390</td>\n",
       "      <td>20284.493521</td>\n",
       "      <td>0.025433</td>\n",
       "      <td>7.252241</td>\n",
       "      <td>2717.274930</td>\n",
       "    </tr>\n",
       "  </tbody>\n",
       "</table>\n",
       "</div>"
      ],
      "text/plain": [
       "   account_type_bot  default_profile  default_profile_image  description  \\\n",
       "0                 0         0.318994               0.006996     0.883621   \n",
       "1                 1         0.623018               0.030825     0.650302   \n",
       "\n",
       "   favourites_count  followers_count  friends_count  geo_enabled      lang  \\\n",
       "0      16186.048455    517747.512254    4207.620677     0.574141  0.861512   \n",
       "1       4483.136740     73500.273803    4925.660443     0.218592  0.638390   \n",
       "\n",
       "   statuses_count  verified  average_tweets_per_day  account_age_days  \n",
       "0    21465.263223  0.289250                6.712556       3173.561308  \n",
       "1    20284.493521  0.025433                7.252241       2717.274930  "
      ]
     },
     "execution_count": 37,
     "metadata": {},
     "output_type": "execute_result"
    }
   ],
   "source": [
    "######################################\n",
    "'''Data Analysis - Exploratory'''\n",
    "######################################\n",
    "\n",
    "means = td_dum.groupby('account_type_bot').mean()\n",
    "means.reset_index()"
   ]
  },
  {
   "cell_type": "code",
   "execution_count": 38,
   "metadata": {
    "slideshow": {
     "slide_type": "slide"
    }
   },
   "outputs": [
    {
     "data": {
      "image/png": "[encoded data removed]",
      "text/plain": [
       "<Figure size 792x576 with 2 Axes>"
      ]
     },
     "metadata": {
      "needs_background": "light"
     },
     "output_type": "display_data"
    }
   ],
   "source": [
    "######################################\n",
    "'''Data Anlaysis - Feature Selection'''\n",
    "######################################\n",
    "#Feature selection is primarily focused on removing non-informative or redundant predictors from the model.\n",
    "#1 = total positive linear, 0- no correlation, -1, total negative linear correlation\n",
    "#Even though the data was converted to numerical data it is still categorical inputs or nominal categorical data. \n",
    "\n",
    "#split data into categorical and numerical because they use different feature selection\n",
    "fs_num = td_dum.iloc[:, [4,5,6,9,11,12]]\n",
    "\n",
    "#generated a heatmap based on the correlation coeffecients for all pairs of variables.'\n",
    "plt.figure(figsize=(11,8))\n",
    "plt.title('Heat Map for Bot Account Features')\n",
    "sns.heatmap(fs_num.corr(), cmap='Spectral', annot=True)\n",
    "plt.savefig('correlation_heatmap.png')\n"
   ]
  },
  {
   "cell_type": "code",
   "execution_count": 39,
   "metadata": {},
   "outputs": [
    {
     "data": {
      "text/plain": [
       "\u001b[0;31mSignature:\u001b[0m \u001b[0mtd_dum\u001b[0m\u001b[0;34m.\u001b[0m\u001b[0mcorr\u001b[0m\u001b[0;34m(\u001b[0m\u001b[0mmethod\u001b[0m\u001b[0;34m=\u001b[0m\u001b[0;34m'pearson'\u001b[0m\u001b[0;34m,\u001b[0m \u001b[0mmin_periods\u001b[0m\u001b[0;34m=\u001b[0m\u001b[0;36m1\u001b[0m\u001b[0;34m)\u001b[0m \u001b[0;34m->\u001b[0m \u001b[0;34m'DataFrame'\u001b[0m\u001b[0;34m\u001b[0m\u001b[0;34m\u001b[0m\u001b[0m\n",
       "\u001b[0;31mDocstring:\u001b[0m\n",
       "Compute pairwise correlation of columns, excluding NA/null values.\n",
       "\n",
       "Parameters\n",
       "----------\n",
       "method : {'pearson', 'kendall', 'spearman'} or callable\n",
       "    Method of correlation:\n",
       "\n",
       "    * pearson : standard correlation coefficient\n",
       "    * kendall : Kendall Tau correlation coefficient\n",
       "    * spearman : Spearman rank correlation\n",
       "    * callable: callable with input two 1d ndarrays\n",
       "        and returning a float. Note that the returned matrix from corr\n",
       "        will have 1 along the diagonals and will be symmetric\n",
       "        regardless of the callable's behavior.\n",
       "\n",
       "        .. versionadded:: 0.24.0\n",
       "\n",
       "min_periods : int, optional\n",
       "    Minimum number of observations required per pair of columns\n",
       "    to have a valid result. Currently only available for Pearson\n",
       "    and Spearman correlation.\n",
       "\n",
       "Returns\n",
       "-------\n",
       "DataFrame\n",
       "    Correlation matrix.\n",
       "\n",
       "See Also\n",
       "--------\n",
       "DataFrame.corrwith : Compute pairwise correlation with another\n",
       "    DataFrame or Series.\n",
       "Series.corr : Compute the correlation between two Series.\n",
       "\n",
       "Examples\n",
       "--------\n",
       ">>> def histogram_intersection(a, b):\n",
       "...     v = np.minimum(a, b).sum().round(decimals=1)\n",
       "...     return v\n",
       ">>> df = pd.DataFrame([(.2, .3), (.0, .6), (.6, .0), (.2, .1)],\n",
       "...                   columns=['dogs', 'cats'])\n",
       ">>> df.corr(method=histogram_intersection)\n",
       "      dogs  cats\n",
       "dogs   1.0   0.3\n",
       "cats   0.3   1.0\n",
       "\u001b[0;31mFile:\u001b[0m      /opt/anaconda3/lib/python3.7/site-packages/pandas/core/frame.py\n",
       "\u001b[0;31mType:\u001b[0m      method\n"
      ]
     },
     "metadata": {},
     "output_type": "display_data"
    }
   ],
   "source": [
    "td_dum.corr?"
   ]
  },
  {
   "cell_type": "code",
   "execution_count": 40,
   "metadata": {},
   "outputs": [],
   "source": [
    "#We can drop one of the features \"average_tweets_per_day\" or \"statuses_count\" because the correlation is higher than .9\n",
    "td_dum.drop(columns=['average_tweets_per_day'], inplace=True)"
   ]
  },
  {
   "cell_type": "code",
   "execution_count": 41,
   "metadata": {
    "slideshow": {
     "slide_type": "slide"
    }
   },
   "outputs": [
    {
     "name": "stdout",
     "output_type": "stream",
     "text": [
      "Optimization terminated successfully.\n",
      "         Current function value: 0.482483\n",
      "         Iterations 7\n",
      "                           Logit Regression Results                           \n",
      "==============================================================================\n",
      "Dep. Variable:       account_type_bot   No. Observations:                37438\n",
      "Model:                          Logit   Df Residuals:                    37426\n",
      "Method:                           MLE   Df Model:                           11\n",
      "Date:                Fri, 18 Dec 2020   Pseudo R-squ.:                  0.2408\n",
      "Time:                        02:15:33   Log-Likelihood:                -18063.\n",
      "converged:                       True   LL-Null:                       -23792.\n",
      "Covariance Type:            nonrobust   LLR p-value:                     0.000\n",
      "=================================================================================================\n",
      "                                    coef    std err          z      P>|z|      [0.025      0.975]\n",
      "-------------------------------------------------------------------------------------------------\n",
      "Intercept                         0.6712      0.058     11.488      0.000       0.557       0.786\n",
      "C(default_profile)[T.1]           0.6317      0.029     21.738      0.000       0.575       0.689\n",
      "C(default_profile_image)[T.1]    -0.1031      0.099     -1.042      0.298      -0.297       0.091\n",
      "C(description)[T.1]              -1.1285      0.105    -10.708      0.000      -1.335      -0.922\n",
      "C(geo_enabled)[T.1]              -1.1655      0.029    -40.422      0.000      -1.222      -1.109\n",
      "C(lang)[T.1]                      0.1837      0.103      1.788      0.074      -0.018       0.385\n",
      "C(verified)[T.1]                 -2.4045      0.067    -35.667      0.000      -2.537      -2.272\n",
      "favourites_count              -2.641e-05   9.93e-07    -26.607      0.000   -2.84e-05   -2.45e-05\n",
      "followers_count               -1.544e-08   1.22e-08     -1.261      0.207   -3.94e-08    8.55e-09\n",
      "friends_count                  2.564e-06   3.29e-07      7.785      0.000    1.92e-06    3.21e-06\n",
      "statuses_count                 7.908e-06   3.48e-07     22.747      0.000    7.23e-06    8.59e-06\n",
      "account_age_days              -4.921e-05   1.43e-05     -3.440      0.001   -7.72e-05   -2.12e-05\n",
      "=================================================================================================\n"
     ]
    }
   ],
   "source": [
    "#Find P-Value\n",
    "#apply a multiple linear regression model in statsmodel which allows for multiple predictors \n",
    "#Wrapout categorical predictors in C() to let the forumala know the numbers represent categories and are not numerical\n",
    "import statsmodels.formula.api as smf\n",
    "result = smf.logit(formula = 'account_type_bot ~ C(default_profile) + C(default_profile_image) + C(description) + favourites_count + followers_count + friends_count + C(geo_enabled) + C(lang) + statuses_count + C(verified) + account_age_days', data=td_dum).fit()\n",
    "print(result.summary())\n"
   ]
  },
  {
   "cell_type": "code",
   "execution_count": 42,
   "metadata": {},
   "outputs": [
    {
     "name": "stdout",
     "output_type": "stream",
     "text": [
      "Optimization terminated successfully.\n",
      "         Current function value: 0.482568\n",
      "         Iterations 7\n",
      "                           Logit Regression Results                           \n",
      "==============================================================================\n",
      "Dep. Variable:       account_type_bot   No. Observations:                37438\n",
      "Model:                          Logit   Df Residuals:                    37429\n",
      "Method:                           MLE   Df Model:                            8\n",
      "Date:                Fri, 18 Dec 2020   Pseudo R-squ.:                  0.2407\n",
      "Time:                        02:15:34   Log-Likelihood:                -18066.\n",
      "converged:                       True   LL-Null:                       -23792.\n",
      "Covariance Type:            nonrobust   LLR p-value:                     0.000\n",
      "===========================================================================================\n",
      "                              coef    std err          z      P>|z|      [0.025      0.975]\n",
      "-------------------------------------------------------------------------------------------\n",
      "Intercept                   0.6646      0.058     11.438      0.000       0.551       0.779\n",
      "C(default_profile)[T.1]     0.6311      0.029     21.756      0.000       0.574       0.688\n",
      "C(description)[T.1]        -0.9418      0.031    -30.443      0.000      -1.002      -0.881\n",
      "C(geo_enabled)[T.1]        -1.1648      0.029    -40.492      0.000      -1.221      -1.108\n",
      "C(verified)[T.1]           -2.4314      0.064    -37.729      0.000      -2.558      -2.305\n",
      "favourites_count        -2.637e-05   9.91e-07    -26.599      0.000   -2.83e-05   -2.44e-05\n",
      "friends_count            2.541e-06   3.28e-07      7.745      0.000     1.9e-06    3.18e-06\n",
      "statuses_count            7.89e-06   3.47e-07     22.760      0.000    7.21e-06    8.57e-06\n",
      "account_age_days        -4.955e-05   1.43e-05     -3.464      0.001   -7.76e-05   -2.15e-05\n",
      "===========================================================================================\n"
     ]
    }
   ],
   "source": [
    "#Run this one more time dropping the insignificant features and the reson for this is that the p-values maychange after dropping some predictors\n",
    "#In this case,it does not\n",
    "import statsmodels.formula.api as smf\n",
    "result = smf.logit(formula = 'account_type_bot ~ C(default_profile) + C(description) + favourites_count + friends_count + C(geo_enabled) + statuses_count + C(verified) + account_age_days', data=td_dum).fit()\n",
    "print(result.summary())\n"
   ]
  },
  {
   "cell_type": "code",
   "execution_count": 43,
   "metadata": {},
   "outputs": [],
   "source": [
    "#Another thing we can look at is the coefficient. The coefficient shows the the odds that the account will be a bot given an increase of 1 in that feature is. If the coefficient is negative then you the odds increase that the account is a human at that percentage for each increase in 1 of the feature."
   ]
  },
  {
   "cell_type": "code",
   "execution_count": 44,
   "metadata": {},
   "outputs": [],
   "source": [
    "#Look at the P-value and drop any predictor that is greater than .05, anything lower is considered a significant predictor\n",
    "td_dum.drop(columns=['default_profile_image', 'lang', 'followers_count'], inplace=True)"
   ]
  },
  {
   "cell_type": "code",
   "execution_count": 45,
   "metadata": {},
   "outputs": [
    {
     "data": {
      "text/html": [
       "<div>\n",
       "<style scoped>\n",
       "    .dataframe tbody tr th:only-of-type {\n",
       "        vertical-align: middle;\n",
       "    }\n",
       "\n",
       "    .dataframe tbody tr th {\n",
       "        vertical-align: top;\n",
       "    }\n",
       "\n",
       "    .dataframe thead th {\n",
       "        text-align: right;\n",
       "    }\n",
       "</style>\n",
       "<table border=\"1\" class=\"dataframe\">\n",
       "  <thead>\n",
       "    <tr style=\"text-align: right;\">\n",
       "      <th></th>\n",
       "      <th>created_at</th>\n",
       "      <th>default_profile</th>\n",
       "      <th>description</th>\n",
       "      <th>favourites_count</th>\n",
       "      <th>friends_count</th>\n",
       "      <th>geo_enabled</th>\n",
       "      <th>statuses_count</th>\n",
       "      <th>verified</th>\n",
       "      <th>account_age_days</th>\n",
       "      <th>account_type_bot</th>\n",
       "    </tr>\n",
       "  </thead>\n",
       "  <tbody>\n",
       "    <tr>\n",
       "      <th>0</th>\n",
       "      <td>2016-10-15 21:32:11</td>\n",
       "      <td>0</td>\n",
       "      <td>1</td>\n",
       "      <td>4</td>\n",
       "      <td>4</td>\n",
       "      <td>0</td>\n",
       "      <td>11041</td>\n",
       "      <td>0</td>\n",
       "      <td>1403</td>\n",
       "      <td>1</td>\n",
       "    </tr>\n",
       "    <tr>\n",
       "      <th>1</th>\n",
       "      <td>2016-11-09 05:01:30</td>\n",
       "      <td>0</td>\n",
       "      <td>1</td>\n",
       "      <td>536</td>\n",
       "      <td>880</td>\n",
       "      <td>0</td>\n",
       "      <td>252</td>\n",
       "      <td>0</td>\n",
       "      <td>1379</td>\n",
       "      <td>0</td>\n",
       "    </tr>\n",
       "    <tr>\n",
       "      <th>2</th>\n",
       "      <td>2017-06-17 05:34:27</td>\n",
       "      <td>0</td>\n",
       "      <td>1</td>\n",
       "      <td>3307</td>\n",
       "      <td>594</td>\n",
       "      <td>1</td>\n",
       "      <td>1001</td>\n",
       "      <td>0</td>\n",
       "      <td>1159</td>\n",
       "      <td>0</td>\n",
       "    </tr>\n",
       "    <tr>\n",
       "      <th>3</th>\n",
       "      <td>2016-07-21 13:32:25</td>\n",
       "      <td>1</td>\n",
       "      <td>1</td>\n",
       "      <td>8433</td>\n",
       "      <td>633</td>\n",
       "      <td>1</td>\n",
       "      <td>1324</td>\n",
       "      <td>0</td>\n",
       "      <td>1489</td>\n",
       "      <td>0</td>\n",
       "    </tr>\n",
       "    <tr>\n",
       "      <th>4</th>\n",
       "      <td>2012-01-15 16:32:35</td>\n",
       "      <td>0</td>\n",
       "      <td>1</td>\n",
       "      <td>88</td>\n",
       "      <td>116</td>\n",
       "      <td>1</td>\n",
       "      <td>4202</td>\n",
       "      <td>1</td>\n",
       "      <td>3138</td>\n",
       "      <td>0</td>\n",
       "    </tr>\n",
       "    <tr>\n",
       "      <th>...</th>\n",
       "      <td>...</td>\n",
       "      <td>...</td>\n",
       "      <td>...</td>\n",
       "      <td>...</td>\n",
       "      <td>...</td>\n",
       "      <td>...</td>\n",
       "      <td>...</td>\n",
       "      <td>...</td>\n",
       "      <td>...</td>\n",
       "      <td>...</td>\n",
       "    </tr>\n",
       "    <tr>\n",
       "      <th>37433</th>\n",
       "      <td>2009-08-08 13:11:15</td>\n",
       "      <td>1</td>\n",
       "      <td>1</td>\n",
       "      <td>651</td>\n",
       "      <td>1105</td>\n",
       "      <td>0</td>\n",
       "      <td>340</td>\n",
       "      <td>0</td>\n",
       "      <td>4028</td>\n",
       "      <td>0</td>\n",
       "    </tr>\n",
       "    <tr>\n",
       "      <th>37434</th>\n",
       "      <td>2013-01-05 21:35:37</td>\n",
       "      <td>0</td>\n",
       "      <td>1</td>\n",
       "      <td>8839</td>\n",
       "      <td>605</td>\n",
       "      <td>1</td>\n",
       "      <td>24970</td>\n",
       "      <td>1</td>\n",
       "      <td>2782</td>\n",
       "      <td>0</td>\n",
       "    </tr>\n",
       "    <tr>\n",
       "      <th>37435</th>\n",
       "      <td>2013-01-14 18:05:54</td>\n",
       "      <td>1</td>\n",
       "      <td>1</td>\n",
       "      <td>399</td>\n",
       "      <td>190</td>\n",
       "      <td>0</td>\n",
       "      <td>6174</td>\n",
       "      <td>1</td>\n",
       "      <td>2773</td>\n",
       "      <td>0</td>\n",
       "    </tr>\n",
       "    <tr>\n",
       "      <th>37436</th>\n",
       "      <td>2012-09-10 16:12:02</td>\n",
       "      <td>0</td>\n",
       "      <td>1</td>\n",
       "      <td>967</td>\n",
       "      <td>166</td>\n",
       "      <td>1</td>\n",
       "      <td>982</td>\n",
       "      <td>0</td>\n",
       "      <td>2899</td>\n",
       "      <td>0</td>\n",
       "    </tr>\n",
       "    <tr>\n",
       "      <th>37437</th>\n",
       "      <td>2011-12-12 12:59:28</td>\n",
       "      <td>0</td>\n",
       "      <td>1</td>\n",
       "      <td>1092</td>\n",
       "      <td>39</td>\n",
       "      <td>0</td>\n",
       "      <td>1563</td>\n",
       "      <td>0</td>\n",
       "      <td>3172</td>\n",
       "      <td>1</td>\n",
       "    </tr>\n",
       "  </tbody>\n",
       "</table>\n",
       "<p>37438 rows × 10 columns</p>\n",
       "</div>"
      ],
      "text/plain": [
       "               created_at  default_profile  description  favourites_count  \\\n",
       "0     2016-10-15 21:32:11                0            1                 4   \n",
       "1     2016-11-09 05:01:30                0            1               536   \n",
       "2     2017-06-17 05:34:27                0            1              3307   \n",
       "3     2016-07-21 13:32:25                1            1              8433   \n",
       "4     2012-01-15 16:32:35                0            1                88   \n",
       "...                   ...              ...          ...               ...   \n",
       "37433 2009-08-08 13:11:15                1            1               651   \n",
       "37434 2013-01-05 21:35:37                0            1              8839   \n",
       "37435 2013-01-14 18:05:54                1            1               399   \n",
       "37436 2012-09-10 16:12:02                0            1               967   \n",
       "37437 2011-12-12 12:59:28                0            1              1092   \n",
       "\n",
       "       friends_count  geo_enabled  statuses_count  verified  account_age_days  \\\n",
       "0                  4            0           11041         0              1403   \n",
       "1                880            0             252         0              1379   \n",
       "2                594            1            1001         0              1159   \n",
       "3                633            1            1324         0              1489   \n",
       "4                116            1            4202         1              3138   \n",
       "...              ...          ...             ...       ...               ...   \n",
       "37433           1105            0             340         0              4028   \n",
       "37434            605            1           24970         1              2782   \n",
       "37435            190            0            6174         1              2773   \n",
       "37436            166            1             982         0              2899   \n",
       "37437             39            0            1563         0              3172   \n",
       "\n",
       "       account_type_bot  \n",
       "0                     1  \n",
       "1                     0  \n",
       "2                     0  \n",
       "3                     0  \n",
       "4                     0  \n",
       "...                 ...  \n",
       "37433                 0  \n",
       "37434                 0  \n",
       "37435                 0  \n",
       "37436                 0  \n",
       "37437                 1  \n",
       "\n",
       "[37438 rows x 10 columns]"
      ]
     },
     "execution_count": 45,
     "metadata": {},
     "output_type": "execute_result"
    }
   ],
   "source": [
    "##############################################\n",
    "'''Data Analysis - Dimensionality Reduction'''\n",
    "##############################################\n",
    "df = pd.DataFrame(td_dum)\n",
    "df"
   ]
  },
  {
   "cell_type": "code",
   "execution_count": 46,
   "metadata": {},
   "outputs": [
    {
     "data": {
      "image/png": "[encoded data removed]",
      "text/plain": [
       "<Figure size 432x288 with 1 Axes>"
      ]
     },
     "metadata": {
      "needs_background": "light"
     },
     "output_type": "display_data"
    },
    {
     "name": "stdout",
     "output_type": "stream",
     "text": [
      "Much less correlation between status counts and favourite counts for bots. Bot accounts have higher status counts with less favourites.\n"
     ]
    }
   ],
   "source": [
    "#plot_X = td_dum.iloc[:,[1,2,3,4,5,6,7,8]]\n",
    "#sns.pairplot(plot_X)\n",
    "\n",
    "sns.scatterplot(x='statuses_count', y='favourites_count', data=td_dum, hue='account_type_bot')\n",
    "plt.savefig('Favourites_statuses.png')\n",
    "plt.show()\n",
    "print('Much less correlation between status counts and favourite counts for bots. Bot accounts have higher status counts with less favourites.')\n"
   ]
  },
  {
   "cell_type": "code",
   "execution_count": 47,
   "metadata": {},
   "outputs": [
    {
     "data": {
      "image/png": "[encoded data removed]",
      "text/plain": [
       "<Figure size 432x288 with 1 Axes>"
      ]
     },
     "metadata": {
      "needs_background": "light"
     },
     "output_type": "display_data"
    },
    {
     "name": "stdout",
     "output_type": "stream",
     "text": [
      "bot accounts receive much less favourites in general, regardless of account age.\n"
     ]
    }
   ],
   "source": [
    "sns.scatterplot(x='account_age_days', y='favourites_count', data=td_dum, hue='account_type_bot')\n",
    "plt.savefig('accountage_favourites.png')\n",
    "plt.show()\n",
    "print('bot accounts receive much less favourites in general, regardless of account age.')"
   ]
  },
  {
   "cell_type": "code",
   "execution_count": 48,
   "metadata": {},
   "outputs": [
    {
     "data": {
      "image/png": "[encoded data removed]",
      "text/plain": [
       "<Figure size 432x288 with 1 Axes>"
      ]
     },
     "metadata": {
      "needs_background": "light"
     },
     "output_type": "display_data"
    },
    {
     "name": "stdout",
     "output_type": "stream",
     "text": [
      "correlation is similar for both\n"
     ]
    }
   ],
   "source": [
    "sns.scatterplot(x='account_age_days', y='friends_count', data=td_dum, hue='account_type_bot')\n",
    "plt.savefig('accountage_friends.png')\n",
    "plt.show()\n",
    "print('correlation is similar for both')"
   ]
  },
  {
   "cell_type": "code",
   "execution_count": 49,
   "metadata": {},
   "outputs": [
    {
     "data": {
      "image/png": "[encoded data removed]",
      "text/plain": [
       "<Figure size 432x288 with 1 Axes>"
      ]
     },
     "metadata": {
      "needs_background": "light"
     },
     "output_type": "display_data"
    },
    {
     "name": "stdout",
     "output_type": "stream",
     "text": [
      "correlation is fairly similar with the exception that a small percentage of outlier bot account have over 1.5 million tweets with their account open for less than 3800 days\n"
     ]
    }
   ],
   "source": [
    "sns.scatterplot(x='account_age_days', y='statuses_count', data=td_dum, hue='account_type_bot')\n",
    "plt.axvline(x=3800, linestyle='dotted')\n",
    "plt.axhline(y=1500000, linestyle='dotted')\n",
    "plt.savefig('accountage_statuses.png')\n",
    "plt.show()\n",
    "print('correlation is fairly similar with the exception that a small percentage of outlier bot account have over 1.5 million tweets with their account open for less than 3800 days')"
   ]
  },
  {
   "cell_type": "code",
   "execution_count": 50,
   "metadata": {},
   "outputs": [],
   "source": [
    "###############################################\n",
    "'''Data Modeling'''\n",
    "###############################################\n",
    "\n",
    "#Split Data\n",
    "#Models should never be tested on the same data that they were trained\n",
    "\n",
    "X = df.iloc[:, [1,2,3,4,5,6,7,8]]\n",
    "y = df.iloc[:, 9]\n",
    "\n",
    "from sklearn.model_selection import train_test_split\n",
    "\n",
    "X_train, X_test, y_train, y_test = train_test_split(X, y, train_size=.75, random_state=11, stratify=y)\n",
    "#Stratification makes sure the the data of bots:humans in the test set is proportional"
   ]
  },
  {
   "cell_type": "code",
   "execution_count": 51,
   "metadata": {},
   "outputs": [],
   "source": [
    "#Normalize your data in preparation of modeling\n",
    "#Standardization = subtract the mean and divide by variance\n",
    "#Min 0 and Max 1 = subtract minimum and divide by range\n",
    "#Scaling improves model performance\n",
    "\n",
    "from sklearn.preprocessing import StandardScaler\n",
    "scaler = StandardScaler()\n",
    "scaler.fit(X_train)\n",
    "\n",
    "X_train = scaler.transform(X_train)\n",
    "X_test = scaler.transform(X_test)"
   ]
  },
  {
   "cell_type": "code",
   "execution_count": 52,
   "metadata": {},
   "outputs": [
    {
     "data": {
      "text/plain": [
       "array([[0.   , 0.393, 0.   ],\n",
       "       [1.   , 0.548, 1.   ],\n",
       "       [1.   , 0.76 , 1.   ],\n",
       "       ...,\n",
       "       [0.   , 0.014, 0.   ],\n",
       "       [0.   , 0.382, 0.   ],\n",
       "       [1.   , 1.   , 1.   ]])"
      ]
     },
     "execution_count": 52,
     "metadata": {},
     "output_type": "execute_result"
    }
   ],
   "source": [
    "#Logistic Regression\n",
    "###################\n",
    "\n",
    "#Build Model\n",
    "from sklearn.linear_model import LogisticRegression\n",
    "log = LogisticRegression(solver='lbfgs') #Logistic regression ensures probability of X is always bounded between 0 and 1, which works well for binary classification\n",
    "logreg = log.fit(X_train, y_train)\n",
    "\n",
    "y_proba_log = log.predict_proba(X_test)[:,1].round(3) #probability the account is a bot (1)\n",
    "y_pred_log = log.predict(X_test)\n",
    "\n",
    "np.column_stack((y_test, y_proba_log, y_pred_log))"
   ]
  },
  {
   "cell_type": "code",
   "execution_count": 53,
   "metadata": {},
   "outputs": [
    {
     "name": "stdout",
     "output_type": "stream",
     "text": [
      "             predict: Respondent is human  predict: Respondent is a bot\n",
      "true: human                          5289                           965\n",
      "true: bot                            1143                          1963\n",
      "accuracy:  0.7747863247863248        misclassification:  0.2252136752136752\n",
      "Classification Report: \n",
      "              precision    recall  f1-score   support\n",
      "\n",
      "           0       0.82      0.85      0.83      6254\n",
      "           1       0.67      0.63      0.65      3106\n",
      "\n",
      "    accuracy                           0.77      9360\n",
      "   macro avg       0.75      0.74      0.74      9360\n",
      "weighted avg       0.77      0.77      0.77      9360\n",
      "\n"
     ]
    }
   ],
   "source": [
    "from sklearn.metrics import confusion_matrix, classification_report\n",
    "from sklearn import metrics\n",
    "\n",
    "cm_log = confusion_matrix(y_test, y_pred_log)\n",
    "df_cm_log = pd.DataFrame(data=cm_log, columns=['predict: Respondent is human', 'predict: Respondent is a bot'], index=['true: human', 'true: bot'])\n",
    "print(df_cm_log)\n",
    "#(7+18)/(7+9+18+1)\n",
    "accuracy_log = metrics.accuracy_score(y_test, y_pred_log)\n",
    "misclass_log = (1 - metrics.accuracy_score(y_test, y_pred_log))\n",
    "print('accuracy: ', accuracy_log, \"      \", 'misclassification: ', misclass_log)\n",
    "#sklearn also provides a classification report\n",
    "print('Classification Report: ')\n",
    "print(classification_report(y_test, y_pred_log))"
   ]
  },
  {
   "cell_type": "code",
   "execution_count": 54,
   "metadata": {},
   "outputs": [
    {
     "name": "stdout",
     "output_type": "stream",
     "text": [
      "accuracy:  0.7747863247863248\n",
      "recall for bot:  0.5\n",
      "precision for bot:  0.5422201138519924\n",
      "false alarm for bot:  0.15430124720179086\n",
      "specificity for bot:  0.8456987527982092\n",
      "Error Rate:  0.2468384074941452\n"
     ]
    }
   ],
   "source": [
    "#It doesn't often predict that the account is a bot leading to a lot of false negatives (account is human)\n",
    "#We can also do this manuall to make sure\n",
    "\n",
    "tp = cm_log[1,0]\n",
    "tn = cm_log[0,0]\n",
    "fp = cm_log[0,1]\n",
    "fn = cm_log[1,0]\n",
    "\n",
    "accuracy = metrics.accuracy_score(y_test, y_pred_log)\n",
    "print('accuracy: ',accuracy)\n",
    "#Recall = sensitivity (true positive rate)\n",
    "recall = tp/(tp + fn)\n",
    "print('recall for bot: ',recall)\n",
    "#How many are bots of what were predicted to be bots\n",
    "precision = tp/(tp + fp)\n",
    "print('precision for bot: ',precision)\n",
    "#How many are predicted as bots but not bots\n",
    "false_alarm = fp/(fp+tn)\n",
    "print('false alarm for bot: ',false_alarm)\n",
    "#1- false alarm rate\n",
    "specificity = tn/(tn+fp)\n",
    "print('specificity for bot: ',specificity)\n",
    "#Error rate\n",
    "errRate = (fp + fn) / float(tp + tn + fp + fn)\n",
    "print('Error Rate: ', errRate)"
   ]
  },
  {
   "cell_type": "code",
   "execution_count": 55,
   "metadata": {},
   "outputs": [
    {
     "name": "stdout",
     "output_type": "stream",
     "text": [
      "Area Under Curve:  0.8316796760697751\n"
     ]
    },
    {
     "data": {
      "text/plain": [
       "<function matplotlib.pyplot.show(*args, **kw)>"
      ]
     },
     "execution_count": 55,
     "metadata": {},
     "output_type": "execute_result"
    },
    {
     "data": {
      "image/png": "[encoded data removed]",
      "text/plain": [
       "<Figure size 432x288 with 1 Axes>"
      ]
     },
     "metadata": {
      "needs_background": "light"
     },
     "output_type": "display_data"
    }
   ],
   "source": [
    "#plot the ROC Curve\n",
    "#Shows the false positive rate vs.the true positive rate by setting different thresholds for the probability\n",
    "#The closer your ROC curve to the upper left corner, the better your classification model is\n",
    "fpr, tpr, thresholds = metrics.roc_curve(y_test, y_proba_log)\n",
    "np.column_stack((fpr, tpr, thresholds))\n",
    "plt.plot(fpr, tpr)\n",
    "plt.xlabel('False Positive Rate')\n",
    "plt.ylabel('True Positive Rate')\n",
    "print('Area Under Curve: ', metrics.auc(fpr, tpr))\n",
    "plt.savefig('LOG_ROC.png')\n",
    "plt.show"
   ]
  },
  {
   "cell_type": "code",
   "execution_count": 56,
   "metadata": {},
   "outputs": [
    {
     "name": "stdout",
     "output_type": "stream",
     "text": [
      "             predict: Respondent is human  predict: Respondent is a bot\n",
      "true: human                          5550                           704\n",
      "true: bot                             943                          2163\n",
      "accuracy:  0.8240384615384615        misclassification:  0.1759615384615385\n",
      "Classification Report: \n",
      "              precision    recall  f1-score   support\n",
      "\n",
      "           0       0.85      0.89      0.87      6254\n",
      "           1       0.75      0.70      0.72      3106\n",
      "\n",
      "    accuracy                           0.82      9360\n",
      "   macro avg       0.80      0.79      0.80      9360\n",
      "weighted avg       0.82      0.82      0.82      9360\n",
      "\n"
     ]
    }
   ],
   "source": [
    "#K-Nearest Neighbors Model\n",
    "######################################\n",
    "\n",
    "from sklearn.neighbors import KNeighborsClassifier\n",
    "#Default clostest neighbor is 5 but you can set it to any number ex) 3 knn = KNeighborsClassifier(3)\n",
    "knn = KNeighborsClassifier(12)\n",
    "knn.fit(X_train, y_train)\n",
    "y_proba_knn = knn.predict_proba(X_test)[:,1].round(3) #probability the account is a bot (1)\n",
    "y_pred_knn = knn.predict(X_test)\n",
    "\n",
    "cm_knn = metrics.confusion_matrix(y_test, y_pred_knn)\n",
    "df_cm_knn = pd.DataFrame(data=cm_knn, columns=['predict: Respondent is human', 'predict: Respondent is a bot'], index=['true: human', 'true: bot'])\n",
    "print(df_cm_knn)\n",
    "accuracy_knn = metrics.accuracy_score(y_test, y_pred_knn)\n",
    "misclass_knn = (1 - metrics.accuracy_score(y_test, y_pred_knn))\n",
    "print('accuracy: ', accuracy_knn, \"      \", 'misclassification: ', misclass_knn)\n",
    "print('Classification Report: ')\n",
    "print(classification_report(y_test, y_pred_knn))"
   ]
  },
  {
   "cell_type": "code",
   "execution_count": 57,
   "metadata": {},
   "outputs": [
    {
     "name": "stdout",
     "output_type": "stream",
     "text": [
      "             predict: Respondent is human  predict: Respondent is a bot\n",
      "true: human                          5742                           512\n",
      "true: bot                             903                          2203\n",
      "accuracy:  0.8488247863247863        misclassification:  0.1511752136752137\n",
      "Classification Report: \n",
      "              precision    recall  f1-score   support\n",
      "\n",
      "           0       0.86      0.92      0.89      6254\n",
      "           1       0.81      0.71      0.76      3106\n",
      "\n",
      "    accuracy                           0.85      9360\n",
      "   macro avg       0.84      0.81      0.82      9360\n",
      "weighted avg       0.85      0.85      0.85      9360\n",
      "\n"
     ]
    }
   ],
   "source": [
    "#Decision Tree Model\n",
    "######################################\n",
    "from sklearn.tree import DecisionTreeClassifier\n",
    "dtc = DecisionTreeClassifier(max_depth=10, criterion = 'entropy').fit(X_train, y_train)\n",
    "y_proba_dtc = dtc.predict_proba(X_test)[:,1].round(3) #probability the account is a bot (1)\n",
    "y_pred_dtc = dtc.predict(X_test)\n",
    "\n",
    "cm_dtc = metrics.confusion_matrix(y_test, y_pred_dtc)\n",
    "df_cm_dtc = pd.DataFrame(data=cm_dtc, columns=['predict: Respondent is human', 'predict: Respondent is a bot'], index=['true: human', 'true: bot'])\n",
    "print(df_cm_dtc)\n",
    "accuracy_dtc = metrics.accuracy_score(y_test, y_pred_dtc)\n",
    "misclass_dtc = (1 - metrics.accuracy_score(y_test, y_pred_dtc))\n",
    "print('accuracy: ', accuracy_dtc, \"      \", 'misclassification: ', misclass_dtc)\n",
    "print('Classification Report: ')\n",
    "print(classification_report(y_test, y_pred_dtc))"
   ]
  },
  {
   "cell_type": "code",
   "execution_count": 58,
   "metadata": {},
   "outputs": [
    {
     "name": "stdout",
     "output_type": "stream",
     "text": [
      "             predict: Respondent is human  predict: Respondent is a bot\n",
      "true: human                          5791                           463\n",
      "true: bot                             830                          2276\n",
      "accuracy:  0.8618589743589744        misclassification:  0.1381410256410256\n",
      "Classification Report: \n",
      "              precision    recall  f1-score   support\n",
      "\n",
      "           0       0.87      0.93      0.90      6254\n",
      "           1       0.83      0.73      0.78      3106\n",
      "\n",
      "    accuracy                           0.86      9360\n",
      "   macro avg       0.85      0.83      0.84      9360\n",
      "weighted avg       0.86      0.86      0.86      9360\n",
      "\n"
     ]
    }
   ],
   "source": [
    "#Random Forest Classifier\n",
    "######################################\n",
    "from sklearn.ensemble import RandomForestClassifier\n",
    "rfc = RandomForestClassifier(max_depth=15, random_state=0,n_estimators=10).fit(X_train, y_train)\n",
    "y_proba_rfc = rfc.predict_proba(X_test)[:,1].round(3) #probability the account is a bot (1)\n",
    "y_pred_rfc = rfc.predict(X_test)\n",
    "\n",
    "cm_rfc = metrics.confusion_matrix(y_test, y_pred_rfc)\n",
    "df_cm_rfc = pd.DataFrame(data=cm_rfc, columns=['predict: Respondent is human', 'predict: Respondent is a bot'], index=['true: human', 'true: bot'])\n",
    "print(df_cm_rfc)\n",
    "accuracy_rfc = metrics.accuracy_score(y_test, y_pred_rfc)\n",
    "misclass_rfc = (1 - metrics.accuracy_score(y_test, y_pred_rfc))\n",
    "print('accuracy: ', accuracy_rfc, \"      \", 'misclassification: ', misclass_rfc)\n",
    "print('Classification Report: ')\n",
    "print(classification_report(y_test, y_pred_rfc))"
   ]
  },
  {
   "cell_type": "code",
   "execution_count": 59,
   "metadata": {},
   "outputs": [
    {
     "data": {
      "text/plain": [
       "Text(0, 0.5, 'Mean Error')"
      ]
     },
     "execution_count": 59,
     "metadata": {},
     "output_type": "execute_result"
    },
    {
     "data": {
      "image/png": "[encoded data removed]",
      "text/plain": [
       "<Figure size 864x432 with 1 Axes>"
      ]
     },
     "metadata": {
      "needs_background": "light"
     },
     "output_type": "display_data"
    }
   ],
   "source": [
    "#################################\n",
    "'''Model Selection'''\n",
    "#################################\n",
    "\n",
    "#Best Value within the model for KNN, DTC, and RFC\n",
    "\n",
    "#K-Nearest Neighbors\n",
    "error_knn = []\n",
    "for i in range(1, 20):\n",
    "    knn = KNeighborsClassifier(n_neighbors=i)\n",
    "    knn.fit(X_train, y_train)\n",
    "    pred_i = knn.predict(X_test)\n",
    "    error_knn.append(np.mean(pred_i != y_test))\n",
    "\n",
    "#Decision Tree Classifier\n",
    "error_dtc = []\n",
    "for i in range(1, 20):\n",
    "    dtc = DecisionTreeClassifier(max_depth=i)\n",
    "    dtc.fit(X_train, y_train)\n",
    "    pred_i = dtc.predict(X_test)\n",
    "    error_dtc.append(np.mean(pred_i != y_test))\n",
    "\n",
    "#Random Forest Classifier\n",
    "error_rfc = []\n",
    "for i in range(1, 20):\n",
    "    rfc = RandomForestClassifier(max_depth=i, n_estimators=10)\n",
    "    rfc.fit(X_train, y_train)\n",
    "    pred_i = rfc.predict(X_test)\n",
    "    error_rfc.append(np.mean(pred_i != y_test))\n",
    "\n",
    "    \n",
    "    \n",
    "\n",
    "#KNN\n",
    "plt.figure(figsize=(12, 6))\n",
    "plt.plot(range(1, 20), error_knn, color='blue', linestyle='dashed', marker='o', markerfacecolor='blue', markersize=10)\n",
    "plt.title('Error Rate Depth Value KNN')\n",
    "plt.xlabel('Depth Value')\n",
    "plt.ylabel('Mean Error')"
   ]
  },
  {
   "cell_type": "code",
   "execution_count": 98,
   "metadata": {},
   "outputs": [
    {
     "data": {
      "text/plain": [
       "Text(0, 0.5, 'Mean Error')"
      ]
     },
     "execution_count": 98,
     "metadata": {},
     "output_type": "execute_result"
    },
    {
     "data": {
      "image/png": "[encoded data removed]",
      "text/plain": [
       "<Figure size 864x432 with 1 Axes>"
      ]
     },
     "metadata": {
      "needs_background": "light"
     },
     "output_type": "display_data"
    }
   ],
   "source": [
    "#DTC\n",
    "plt.figure(figsize=(12, 6))\n",
    "plt.plot(range(1, 20), error_dtc, color='red', linestyle='dashed', marker='o', markerfacecolor='red', markersize=10)\n",
    "plt.title('Error Rate Depth Value DTC')\n",
    "plt.xlabel('Depth Value')\n",
    "plt.ylabel('Mean Error')"
   ]
  },
  {
   "cell_type": "code",
   "execution_count": 99,
   "metadata": {},
   "outputs": [
    {
     "data": {
      "text/plain": [
       "Text(0, 0.5, 'Mean Error')"
      ]
     },
     "execution_count": 99,
     "metadata": {},
     "output_type": "execute_result"
    },
    {
     "data": {
      "image/png": "[encoded data removed]",
      "text/plain": [
       "<Figure size 864x432 with 1 Axes>"
      ]
     },
     "metadata": {
      "needs_background": "light"
     },
     "output_type": "display_data"
    }
   ],
   "source": [
    "#RFC\n",
    "plt.figure(figsize=(12, 6))\n",
    "plt.plot(range(1, 20), error_rfc, color='green', linestyle='dashed', marker='o', markerfacecolor='green', markersize=10)\n",
    "plt.title('Error Rate Depth Value RFC')\n",
    "plt.xlabel('Depth Value')\n",
    "plt.ylabel('Mean Error')"
   ]
  },
  {
   "cell_type": "code",
   "execution_count": 100,
   "metadata": {},
   "outputs": [
    {
     "name": "stdout",
     "output_type": "stream",
     "text": [
      "Logistic Regression:  accuracy:  0.7747863247863248        misclassification:  0.2252136752136752\n",
      "K-Nearest Neighbors:  accuracy:  0.8240384615384615        misclassification:  0.1759615384615385\n",
      "Decision Tree Classifer:  accuracy:  0.8488247863247863        misclassification:  0.1511752136752137\n",
      "Random Forest Classifer:  accuracy:  0.8618589743589744        misclassification:  0.1381410256410256\n"
     ]
    }
   ],
   "source": [
    "##########################################\n",
    "'''Model Selection Comparitive'''\n",
    "##########################################\n",
    "\n",
    "# Classification Metrics\n",
    "print('Logistic Regression: ', 'accuracy: ', accuracy_log, \"      \", 'misclassification: ', misclass_log)\n",
    "print('K-Nearest Neighbors: ', 'accuracy: ', accuracy_knn, \"      \", 'misclassification: ', misclass_knn)\n",
    "print('Decision Tree Classifer: ', 'accuracy: ', accuracy_dtc, \"      \", 'misclassification: ', misclass_dtc)\n",
    "print('Random Forest Classifer: ', 'accuracy: ', accuracy_rfc, \"      \", 'misclassification: ', misclass_rfc)"
   ]
  },
  {
   "cell_type": "code",
   "execution_count": 101,
   "metadata": {},
   "outputs": [
    {
     "name": "stdout",
     "output_type": "stream",
     "text": [
      "LOG: 0.671243 (0.003554)\n",
      "KNN: 0.846039 (0.004858)\n",
      "DTC: 0.819488 (0.003517)\n",
      "RFC: 0.857845 (0.004554)\n"
     ]
    },
    {
     "data": {
      "image/png": "[encoded data removed]",
      "text/plain": [
       "<Figure size 432x288 with 1 Axes>"
      ]
     },
     "metadata": {
      "needs_background": "light"
     },
     "output_type": "display_data"
    }
   ],
   "source": [
    "from sklearn.model_selection import KFold\n",
    "from sklearn.model_selection import cross_val_score\n",
    "\n",
    "# prepare models\n",
    "models = []\n",
    "models.append(('LOG', LogisticRegression(solver='lbfgs')))\n",
    "models.append(('KNN', KNeighborsClassifier()))\n",
    "models.append(('DTC', DecisionTreeClassifier()))\n",
    "models.append(('RFC', RandomForestClassifier(n_estimators=10)))\n",
    "\n",
    "# evaluate each model in turn\n",
    "results = []\n",
    "names = []\n",
    "for name, model in models:\n",
    "    kfold = KFold(n_splits=5, shuffle=True, random_state=11)\n",
    "    cv_results = cross_val_score(model, X, y, cv=kfold, scoring='accuracy')\n",
    "    results.append(cv_results)\n",
    "    names.append(name)\n",
    "    msg = \"%s: %f (%f)\" % (name, cv_results.mean(), cv_results.std())\n",
    "    print(msg)\n",
    "    \n",
    "# boxplot algorithm comparison\n",
    "fig = plt.figure()\n",
    "fig.suptitle('Algorithm Comparison')\n",
    "ax = fig.add_subplot(111)\n",
    "plt.boxplot(results)\n",
    "ax.set_xticklabels(names)\n",
    "plt.savefig('Algorith_comparison.png')\n",
    "plt.show()"
   ]
  },
  {
   "cell_type": "code",
   "execution_count": null,
   "metadata": {},
   "outputs": [],
   "source": []
  }
 ],
 "metadata": {
  "kernelspec": {
   "display_name": "Python 3",
   "language": "python",
   "name": "python3"
  },
  "language_info": {
   "codemirror_mode": {
    "name": "ipython",
    "version": 3
   },
   "file_extension": ".py",
   "mimetype": "text/x-python",
   "name": "python",
   "nbconvert_exporter": "python",
   "pygments_lexer": "ipython3",
   "version": "3.7.4"
  }
 },
 "nbformat": 4,
 "nbformat_minor": 4
}
